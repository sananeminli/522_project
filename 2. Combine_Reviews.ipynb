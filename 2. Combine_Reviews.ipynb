{
 "cells": [
  {
   "cell_type": "code",
   "execution_count": 20,
   "metadata": {},
   "outputs": [],
   "source": [
    "import os\n",
    "import glob\n",
    "import pandas as pd"
   ]
  },
  {
   "cell_type": "code",
   "execution_count": 21,
   "metadata": {},
   "outputs": [],
   "source": [
    "extension = 'csv'\n",
    "all_filenames = [i for i in glob.glob('*.{}'.format(extension))]"
   ]
  },
  {
   "cell_type": "code",
   "execution_count": 22,
   "metadata": {},
   "outputs": [
    {
     "name": "stderr",
     "output_type": "stream",
     "text": [
      "/Library/Frameworks/Python.framework/Versions/3.10/lib/python3.10/site-packages/pandas/core/internals/blocks.py:2323: RuntimeWarning: invalid value encountered in cast\n",
      "  values = values.astype(str)\n"
     ]
    }
   ],
   "source": [
    "#combine all files in the list\n",
    "combined_csv = pd.concat([pd.read_csv(f) for f in all_filenames ])\n",
    "#export to csv\n",
    "combined_csv.to_csv( \"combined_reviews.csv\", index=False, encoding='utf-8-sig')"
   ]
  },
  {
   "cell_type": "code",
   "execution_count": 23,
   "metadata": {},
   "outputs": [
    {
     "name": "stdout",
     "output_type": "stream",
     "text": [
      "2690\n"
     ]
    }
   ],
   "source": [
    "len(combined_csv)\n",
    "print(len(combined_csv))"
   ]
  },
  {
   "cell_type": "code",
   "execution_count": 24,
   "metadata": {},
   "outputs": [],
   "source": [
    "dataPM = pd.read_csv('postmates.csv')\n",
    "dataFramePM = pd.DataFrame(dataPM, columns=['app_name','app_id', 'date', 'title', 'review', 'rating'])\n",
    "\n",
    "dataUbereats = pd.read_csv('ubereats.csv')\n",
    "dataFrameUbereats = pd.DataFrame(dataUbereats, columns=['app_name','app_id', 'date', 'title', 'review', 'rating'])\n",
    "\n",
    "dataGH = pd.read_csv('grubhub.csv')\n",
    "dataFrameGH = pd.DataFrame(dataGH, columns=['app_name','app_id', 'date', 'title', 'review', 'rating'])\n",
    "\n",
    "dataDoordash = pd.read_csv('doordash.csv')\n",
    "dataFrameDoordash = pd.DataFrame(dataDoordash, columns=['app_name','app_id', 'date', 'title', 'review', 'rating'])\n",
    "\n",
    "#Replace nan \"missing values\" with empty string\n",
    "#dataFrame[\"affiliation\"].fillna('', inplace = True)\n",
    "\n",
    "# affiliations = dataFrame[\"affiliation\"].str.lower()\n",
    "\n",
    "# affiliations_list = affiliations.tolist()"
   ]
  },
  {
   "cell_type": "code",
   "execution_count": 25,
   "metadata": {},
   "outputs": [
    {
     "data": {
      "text/html": [
       "<div>\n",
       "<style scoped>\n",
       "    .dataframe tbody tr th:only-of-type {\n",
       "        vertical-align: middle;\n",
       "    }\n",
       "\n",
       "    .dataframe tbody tr th {\n",
       "        vertical-align: top;\n",
       "    }\n",
       "\n",
       "    .dataframe thead th {\n",
       "        text-align: right;\n",
       "    }\n",
       "</style>\n",
       "<table border=\"1\" class=\"dataframe\">\n",
       "  <thead>\n",
       "    <tr style=\"text-align: right;\">\n",
       "      <th></th>\n",
       "      <th>app_name</th>\n",
       "      <th>app_id</th>\n",
       "      <th>date</th>\n",
       "      <th>title</th>\n",
       "      <th>review</th>\n",
       "      <th>rating</th>\n",
       "    </tr>\n",
       "  </thead>\n",
       "  <tbody>\n",
       "    <tr>\n",
       "      <th>0</th>\n",
       "      <td>grubhub</td>\n",
       "      <td>302920553</td>\n",
       "      <td>2022-10-06 18:04:56</td>\n",
       "      <td>Drivers are doing too much</td>\n",
       "      <td>1. I’ve been waiting for an hour so far for my...</td>\n",
       "      <td>3</td>\n",
       "    </tr>\n",
       "    <tr>\n",
       "      <th>1</th>\n",
       "      <td>grubhub</td>\n",
       "      <td>302920553</td>\n",
       "      <td>2022-11-06 07:44:28</td>\n",
       "      <td>Will block you for anything</td>\n",
       "      <td>They blocked my account in sept I have followe...</td>\n",
       "      <td>1</td>\n",
       "    </tr>\n",
       "    <tr>\n",
       "      <th>2</th>\n",
       "      <td>grubhub</td>\n",
       "      <td>302920553</td>\n",
       "      <td>2022-09-26 16:54:30</td>\n",
       "      <td>Used to love GrubHub until I was hacked</td>\n",
       "      <td>I’ve used GrubHub for years and thought it was...</td>\n",
       "      <td>4</td>\n",
       "    </tr>\n",
       "    <tr>\n",
       "      <th>3</th>\n",
       "      <td>grubhub</td>\n",
       "      <td>302920553</td>\n",
       "      <td>2022-09-26 20:18:27</td>\n",
       "      <td>So far, so Good!</td>\n",
       "      <td>Today is Monday, September 26, 2022, and this ...</td>\n",
       "      <td>1</td>\n",
       "    </tr>\n",
       "    <tr>\n",
       "      <th>4</th>\n",
       "      <td>grubhub</td>\n",
       "      <td>302920553</td>\n",
       "      <td>2022-11-01 20:34:29</td>\n",
       "      <td>Ugh</td>\n",
       "      <td>This company is one of the worst I’ve ever dea...</td>\n",
       "      <td>1</td>\n",
       "    </tr>\n",
       "  </tbody>\n",
       "</table>\n",
       "</div>"
      ],
      "text/plain": [
       "  app_name     app_id                 date  \\\n",
       "0  grubhub  302920553  2022-10-06 18:04:56   \n",
       "1  grubhub  302920553  2022-11-06 07:44:28   \n",
       "2  grubhub  302920553  2022-09-26 16:54:30   \n",
       "3  grubhub  302920553  2022-09-26 20:18:27   \n",
       "4  grubhub  302920553  2022-11-01 20:34:29   \n",
       "\n",
       "                                     title  \\\n",
       "0               Drivers are doing too much   \n",
       "1              Will block you for anything   \n",
       "2  Used to love GrubHub until I was hacked   \n",
       "3                         So far, so Good!   \n",
       "4                                      Ugh   \n",
       "\n",
       "                                              review  rating  \n",
       "0  1. I’ve been waiting for an hour so far for my...       3  \n",
       "1  They blocked my account in sept I have followe...       1  \n",
       "2  I’ve used GrubHub for years and thought it was...       4  \n",
       "3  Today is Monday, September 26, 2022, and this ...       1  \n",
       "4  This company is one of the worst I’ve ever dea...       1  "
      ]
     },
     "execution_count": 25,
     "metadata": {},
     "output_type": "execute_result"
    }
   ],
   "source": [
    "dataFrameGH.head()"
   ]
  },
  {
   "cell_type": "code",
   "execution_count": 26,
   "metadata": {},
   "outputs": [
    {
     "data": {
      "text/html": [
       "<div>\n",
       "<style scoped>\n",
       "    .dataframe tbody tr th:only-of-type {\n",
       "        vertical-align: middle;\n",
       "    }\n",
       "\n",
       "    .dataframe tbody tr th {\n",
       "        vertical-align: top;\n",
       "    }\n",
       "\n",
       "    .dataframe thead th {\n",
       "        text-align: right;\n",
       "    }\n",
       "</style>\n",
       "<table border=\"1\" class=\"dataframe\">\n",
       "  <thead>\n",
       "    <tr style=\"text-align: right;\">\n",
       "      <th></th>\n",
       "      <th>app_name</th>\n",
       "      <th>app_id</th>\n",
       "      <th>date</th>\n",
       "      <th>title</th>\n",
       "      <th>review</th>\n",
       "      <th>rating</th>\n",
       "    </tr>\n",
       "  </thead>\n",
       "  <tbody>\n",
       "    <tr>\n",
       "      <th>0</th>\n",
       "      <td>ubereats</td>\n",
       "      <td>1058959277</td>\n",
       "      <td>2022-09-19 02:16:38</td>\n",
       "      <td>Terrible application and customer service</td>\n",
       "      <td>I used Uber Eats for the first time a month ag...</td>\n",
       "      <td>1</td>\n",
       "    </tr>\n",
       "    <tr>\n",
       "      <th>1</th>\n",
       "      <td>ubereats</td>\n",
       "      <td>1058959277</td>\n",
       "      <td>2022-09-30 01:03:59</td>\n",
       "      <td>Scam o Rama</td>\n",
       "      <td>Use one of their many competitors. While trave...</td>\n",
       "      <td>1</td>\n",
       "    </tr>\n",
       "    <tr>\n",
       "      <th>2</th>\n",
       "      <td>ubereats</td>\n",
       "      <td>1058959277</td>\n",
       "      <td>2022-11-30 15:05:49</td>\n",
       "      <td>Thanks for letting me get robbed multiple time...</td>\n",
       "      <td>I hate this app and have officially stopped us...</td>\n",
       "      <td>1</td>\n",
       "    </tr>\n",
       "    <tr>\n",
       "      <th>3</th>\n",
       "      <td>ubereats</td>\n",
       "      <td>1058959277</td>\n",
       "      <td>2022-11-26 23:18:08</td>\n",
       "      <td>Totally disappointed</td>\n",
       "      <td>This app worked fine for a while, then it star...</td>\n",
       "      <td>2</td>\n",
       "    </tr>\n",
       "    <tr>\n",
       "      <th>4</th>\n",
       "      <td>ubereats</td>\n",
       "      <td>1058959277</td>\n",
       "      <td>2022-12-12 15:55:05</td>\n",
       "      <td>Refund</td>\n",
       "      <td>So as of today I deleted this app and I’m no l...</td>\n",
       "      <td>1</td>\n",
       "    </tr>\n",
       "  </tbody>\n",
       "</table>\n",
       "</div>"
      ],
      "text/plain": [
       "   app_name      app_id                 date  \\\n",
       "0  ubereats  1058959277  2022-09-19 02:16:38   \n",
       "1  ubereats  1058959277  2022-09-30 01:03:59   \n",
       "2  ubereats  1058959277  2022-11-30 15:05:49   \n",
       "3  ubereats  1058959277  2022-11-26 23:18:08   \n",
       "4  ubereats  1058959277  2022-12-12 15:55:05   \n",
       "\n",
       "                                               title  \\\n",
       "0          Terrible application and customer service   \n",
       "1                                        Scam o Rama   \n",
       "2  Thanks for letting me get robbed multiple time...   \n",
       "3                               Totally disappointed   \n",
       "4                                             Refund   \n",
       "\n",
       "                                              review  rating  \n",
       "0  I used Uber Eats for the first time a month ag...       1  \n",
       "1  Use one of their many competitors. While trave...       1  \n",
       "2  I hate this app and have officially stopped us...       1  \n",
       "3  This app worked fine for a while, then it star...       2  \n",
       "4  So as of today I deleted this app and I’m no l...       1  "
      ]
     },
     "execution_count": 26,
     "metadata": {},
     "output_type": "execute_result"
    }
   ],
   "source": [
    "dataFrameUbereats.head()"
   ]
  },
  {
   "cell_type": "code",
   "execution_count": 27,
   "metadata": {},
   "outputs": [
    {
     "data": {
      "text/html": [
       "<div>\n",
       "<style scoped>\n",
       "    .dataframe tbody tr th:only-of-type {\n",
       "        vertical-align: middle;\n",
       "    }\n",
       "\n",
       "    .dataframe tbody tr th {\n",
       "        vertical-align: top;\n",
       "    }\n",
       "\n",
       "    .dataframe thead th {\n",
       "        text-align: right;\n",
       "    }\n",
       "</style>\n",
       "<table border=\"1\" class=\"dataframe\">\n",
       "  <thead>\n",
       "    <tr style=\"text-align: right;\">\n",
       "      <th></th>\n",
       "      <th>app_name</th>\n",
       "      <th>app_id</th>\n",
       "      <th>date</th>\n",
       "      <th>title</th>\n",
       "      <th>review</th>\n",
       "      <th>rating</th>\n",
       "    </tr>\n",
       "  </thead>\n",
       "  <tbody>\n",
       "    <tr>\n",
       "      <th>0</th>\n",
       "      <td>postmates</td>\n",
       "      <td>512393983</td>\n",
       "      <td>2022-12-03 02:22:04</td>\n",
       "      <td>Usually great</td>\n",
       "      <td>I use Postmates at least once a week on averag...</td>\n",
       "      <td>4</td>\n",
       "    </tr>\n",
       "    <tr>\n",
       "      <th>1</th>\n",
       "      <td>postmates</td>\n",
       "      <td>512393983</td>\n",
       "      <td>2022-12-05 14:21:22</td>\n",
       "      <td>Support is horrendous, stick to other companies</td>\n",
       "      <td>Tried using Postmates for the first time and a...</td>\n",
       "      <td>1</td>\n",
       "    </tr>\n",
       "    <tr>\n",
       "      <th>2</th>\n",
       "      <td>postmates</td>\n",
       "      <td>512393983</td>\n",
       "      <td>2022-10-08 08:13:03</td>\n",
       "      <td>Worse than going to the ER</td>\n",
       "      <td>A few nights ago I placed an order on Postmate...</td>\n",
       "      <td>1</td>\n",
       "    </tr>\n",
       "    <tr>\n",
       "      <th>3</th>\n",
       "      <td>postmates</td>\n",
       "      <td>512393983</td>\n",
       "      <td>2022-10-29 11:46:14</td>\n",
       "      <td>Will 100% still your money</td>\n",
       "      <td>I downloaded this app signed up put credit car...</td>\n",
       "      <td>1</td>\n",
       "    </tr>\n",
       "    <tr>\n",
       "      <th>4</th>\n",
       "      <td>postmates</td>\n",
       "      <td>512393983</td>\n",
       "      <td>2022-09-26 19:52:04</td>\n",
       "      <td>Insane</td>\n",
       "      <td>Their fees are outrageous.\\nNot only do they A...</td>\n",
       "      <td>2</td>\n",
       "    </tr>\n",
       "  </tbody>\n",
       "</table>\n",
       "</div>"
      ],
      "text/plain": [
       "    app_name     app_id                 date  \\\n",
       "0  postmates  512393983  2022-12-03 02:22:04   \n",
       "1  postmates  512393983  2022-12-05 14:21:22   \n",
       "2  postmates  512393983  2022-10-08 08:13:03   \n",
       "3  postmates  512393983  2022-10-29 11:46:14   \n",
       "4  postmates  512393983  2022-09-26 19:52:04   \n",
       "\n",
       "                                             title  \\\n",
       "0                                    Usually great   \n",
       "1  Support is horrendous, stick to other companies   \n",
       "2                       Worse than going to the ER   \n",
       "3                       Will 100% still your money   \n",
       "4                                           Insane   \n",
       "\n",
       "                                              review  rating  \n",
       "0  I use Postmates at least once a week on averag...       4  \n",
       "1  Tried using Postmates for the first time and a...       1  \n",
       "2  A few nights ago I placed an order on Postmate...       1  \n",
       "3  I downloaded this app signed up put credit car...       1  \n",
       "4  Their fees are outrageous.\\nNot only do they A...       2  "
      ]
     },
     "execution_count": 27,
     "metadata": {},
     "output_type": "execute_result"
    }
   ],
   "source": [
    "dataFramePM.head()"
   ]
  },
  {
   "cell_type": "code",
   "execution_count": 28,
   "metadata": {},
   "outputs": [
    {
     "data": {
      "text/html": [
       "<div>\n",
       "<style scoped>\n",
       "    .dataframe tbody tr th:only-of-type {\n",
       "        vertical-align: middle;\n",
       "    }\n",
       "\n",
       "    .dataframe tbody tr th {\n",
       "        vertical-align: top;\n",
       "    }\n",
       "\n",
       "    .dataframe thead th {\n",
       "        text-align: right;\n",
       "    }\n",
       "</style>\n",
       "<table border=\"1\" class=\"dataframe\">\n",
       "  <thead>\n",
       "    <tr style=\"text-align: right;\">\n",
       "      <th></th>\n",
       "      <th>app_name</th>\n",
       "      <th>app_id</th>\n",
       "      <th>date</th>\n",
       "      <th>title</th>\n",
       "      <th>review</th>\n",
       "      <th>rating</th>\n",
       "    </tr>\n",
       "  </thead>\n",
       "  <tbody>\n",
       "    <tr>\n",
       "      <th>0</th>\n",
       "      <td>doordash</td>\n",
       "      <td>719972451</td>\n",
       "      <td>2022-12-13 12:55:30</td>\n",
       "      <td>Used to love this service!!</td>\n",
       "      <td>Giving one star because doordash has been my g...</td>\n",
       "      <td>1</td>\n",
       "    </tr>\n",
       "    <tr>\n",
       "      <th>1</th>\n",
       "      <td>doordash</td>\n",
       "      <td>719972451</td>\n",
       "      <td>2022-11-15 04:41:26</td>\n",
       "      <td>Beware of driver name OTM</td>\n",
       "      <td>Person never dropped off food and toke a black...</td>\n",
       "      <td>5</td>\n",
       "    </tr>\n",
       "    <tr>\n",
       "      <th>2</th>\n",
       "      <td>doordash</td>\n",
       "      <td>719972451</td>\n",
       "      <td>2022-12-10 00:11:50</td>\n",
       "      <td>Only use as last resort</td>\n",
       "      <td>I have been using DoorDash for a while now and...</td>\n",
       "      <td>2</td>\n",
       "    </tr>\n",
       "    <tr>\n",
       "      <th>3</th>\n",
       "      <td>doordash</td>\n",
       "      <td>719972451</td>\n",
       "      <td>2022-11-07 04:36:03</td>\n",
       "      <td>Good for consumers bad for dashers.</td>\n",
       "      <td>I have been both a consumer and dasher and it’...</td>\n",
       "      <td>4</td>\n",
       "    </tr>\n",
       "    <tr>\n",
       "      <th>4</th>\n",
       "      <td>doordash</td>\n",
       "      <td>719972451</td>\n",
       "      <td>2022-09-24 00:10:33</td>\n",
       "      <td>Customer service is a disaster</td>\n",
       "      <td>I placed an order, two drivers bailed out on t...</td>\n",
       "      <td>1</td>\n",
       "    </tr>\n",
       "  </tbody>\n",
       "</table>\n",
       "</div>"
      ],
      "text/plain": [
       "   app_name     app_id                 date  \\\n",
       "0  doordash  719972451  2022-12-13 12:55:30   \n",
       "1  doordash  719972451  2022-11-15 04:41:26   \n",
       "2  doordash  719972451  2022-12-10 00:11:50   \n",
       "3  doordash  719972451  2022-11-07 04:36:03   \n",
       "4  doordash  719972451  2022-09-24 00:10:33   \n",
       "\n",
       "                                 title  \\\n",
       "0          Used to love this service!!   \n",
       "1            Beware of driver name OTM   \n",
       "2              Only use as last resort   \n",
       "3  Good for consumers bad for dashers.   \n",
       "4       Customer service is a disaster   \n",
       "\n",
       "                                              review  rating  \n",
       "0  Giving one star because doordash has been my g...       1  \n",
       "1  Person never dropped off food and toke a black...       5  \n",
       "2  I have been using DoorDash for a while now and...       2  \n",
       "3  I have been both a consumer and dasher and it’...       4  \n",
       "4  I placed an order, two drivers bailed out on t...       1  "
      ]
     },
     "execution_count": 28,
     "metadata": {},
     "output_type": "execute_result"
    }
   ],
   "source": [
    "dataFrameDoordash.head()"
   ]
  },
  {
   "cell_type": "code",
   "execution_count": 29,
   "metadata": {},
   "outputs": [],
   "source": [
    "combined_reviews = pd.concat((dataFrameGH, dataFrameUbereats, dataFramePM, dataFrameDoordash),axis=0)"
   ]
  },
  {
   "cell_type": "code",
   "execution_count": 30,
   "metadata": {},
   "outputs": [
    {
     "data": {
      "text/html": [
       "<div>\n",
       "<style scoped>\n",
       "    .dataframe tbody tr th:only-of-type {\n",
       "        vertical-align: middle;\n",
       "    }\n",
       "\n",
       "    .dataframe tbody tr th {\n",
       "        vertical-align: top;\n",
       "    }\n",
       "\n",
       "    .dataframe thead th {\n",
       "        text-align: right;\n",
       "    }\n",
       "</style>\n",
       "<table border=\"1\" class=\"dataframe\">\n",
       "  <thead>\n",
       "    <tr style=\"text-align: right;\">\n",
       "      <th></th>\n",
       "      <th>app_name</th>\n",
       "      <th>app_id</th>\n",
       "      <th>date</th>\n",
       "      <th>title</th>\n",
       "      <th>review</th>\n",
       "      <th>rating</th>\n",
       "    </tr>\n",
       "  </thead>\n",
       "  <tbody>\n",
       "    <tr>\n",
       "      <th>0</th>\n",
       "      <td>grubhub</td>\n",
       "      <td>302920553</td>\n",
       "      <td>2022-10-06 18:04:56</td>\n",
       "      <td>Drivers are doing too much</td>\n",
       "      <td>1. I’ve been waiting for an hour so far for my...</td>\n",
       "      <td>3</td>\n",
       "    </tr>\n",
       "    <tr>\n",
       "      <th>1</th>\n",
       "      <td>grubhub</td>\n",
       "      <td>302920553</td>\n",
       "      <td>2022-11-06 07:44:28</td>\n",
       "      <td>Will block you for anything</td>\n",
       "      <td>They blocked my account in sept I have followe...</td>\n",
       "      <td>1</td>\n",
       "    </tr>\n",
       "    <tr>\n",
       "      <th>2</th>\n",
       "      <td>grubhub</td>\n",
       "      <td>302920553</td>\n",
       "      <td>2022-09-26 16:54:30</td>\n",
       "      <td>Used to love GrubHub until I was hacked</td>\n",
       "      <td>I’ve used GrubHub for years and thought it was...</td>\n",
       "      <td>4</td>\n",
       "    </tr>\n",
       "    <tr>\n",
       "      <th>3</th>\n",
       "      <td>grubhub</td>\n",
       "      <td>302920553</td>\n",
       "      <td>2022-09-26 20:18:27</td>\n",
       "      <td>So far, so Good!</td>\n",
       "      <td>Today is Monday, September 26, 2022, and this ...</td>\n",
       "      <td>1</td>\n",
       "    </tr>\n",
       "    <tr>\n",
       "      <th>4</th>\n",
       "      <td>grubhub</td>\n",
       "      <td>302920553</td>\n",
       "      <td>2022-11-01 20:34:29</td>\n",
       "      <td>Ugh</td>\n",
       "      <td>This company is one of the worst I’ve ever dea...</td>\n",
       "      <td>1</td>\n",
       "    </tr>\n",
       "  </tbody>\n",
       "</table>\n",
       "</div>"
      ],
      "text/plain": [
       "  app_name     app_id                 date  \\\n",
       "0  grubhub  302920553  2022-10-06 18:04:56   \n",
       "1  grubhub  302920553  2022-11-06 07:44:28   \n",
       "2  grubhub  302920553  2022-09-26 16:54:30   \n",
       "3  grubhub  302920553  2022-09-26 20:18:27   \n",
       "4  grubhub  302920553  2022-11-01 20:34:29   \n",
       "\n",
       "                                     title  \\\n",
       "0               Drivers are doing too much   \n",
       "1              Will block you for anything   \n",
       "2  Used to love GrubHub until I was hacked   \n",
       "3                         So far, so Good!   \n",
       "4                                      Ugh   \n",
       "\n",
       "                                              review  rating  \n",
       "0  1. I’ve been waiting for an hour so far for my...       3  \n",
       "1  They blocked my account in sept I have followe...       1  \n",
       "2  I’ve used GrubHub for years and thought it was...       4  \n",
       "3  Today is Monday, September 26, 2022, and this ...       1  \n",
       "4  This company is one of the worst I’ve ever dea...       1  "
      ]
     },
     "execution_count": 30,
     "metadata": {},
     "output_type": "execute_result"
    }
   ],
   "source": [
    "combined_reviews.head()"
   ]
  },
  {
   "cell_type": "code",
   "execution_count": null,
   "metadata": {},
   "outputs": [],
   "source": []
  },
  {
   "cell_type": "code",
   "execution_count": 31,
   "metadata": {},
   "outputs": [
    {
     "data": {
      "text/plain": [
       "1345"
      ]
     },
     "execution_count": 31,
     "metadata": {},
     "output_type": "execute_result"
    }
   ],
   "source": [
    "len(combined_reviews)"
   ]
  },
  {
   "cell_type": "code",
   "execution_count": 32,
   "metadata": {},
   "outputs": [],
   "source": [
    "from pandas import DataFrame\n",
    "\n",
    "combined_df = DataFrame(combined_reviews, columns=['app_name','app_id', 'date', 'title', 'review', 'rating'])\n",
    "combined_df[\"review\"].fillna('', inplace = True) \n",
    "combined_df[\"title\"].fillna('', inplace = True) \n",
    "\n",
    "# print(combined_df)\n"
   ]
  },
  {
   "cell_type": "code",
   "execution_count": 33,
   "metadata": {},
   "outputs": [],
   "source": [
    "table = {\"app_name\": [], \"app_id\": [], \"date\": [], \"title\": [], \"review\": [], \"rating\": []}\n",
    "\n",
    "for x in range(len(combined_df)):\n",
    "    table[\"app_name\"].append(combined_df['app_name'].iloc[x])\n",
    "    table[\"app_id\"].append(combined_df['app_id'].iloc[x])\n",
    "    table[\"date\"].append(combined_df['date'].iloc[x])\n",
    "    table[\"title\"].append(combined_df['title'].iloc[x])\n",
    "    table[\"review\"].append(combined_df['review'].iloc[x])\n",
    "    table[\"rating\"].append(combined_df['rating'].iloc[x])"
   ]
  },
  {
   "cell_type": "code",
   "execution_count": 34,
   "metadata": {},
   "outputs": [
    {
     "data": {
      "text/plain": [
       "1345"
      ]
     },
     "execution_count": 34,
     "metadata": {},
     "output_type": "execute_result"
    }
   ],
   "source": [
    "len(combined_df)"
   ]
  },
  {
   "cell_type": "code",
   "execution_count": 35,
   "metadata": {},
   "outputs": [],
   "source": [
    "df=pd.DataFrame.from_dict(table,orient='index').transpose()\n",
    "df.to_csv('combined_reviews.csv', index = False)"
   ]
  },
  {
   "cell_type": "code",
   "execution_count": null,
   "metadata": {},
   "outputs": [],
   "source": []
  }
 ],
 "metadata": {
  "kernelspec": {
   "display_name": "Python 3",
   "language": "python",
   "name": "python3"
  },
  "language_info": {
   "codemirror_mode": {
    "name": "ipython",
    "version": 3
   },
   "file_extension": ".py",
   "mimetype": "text/x-python",
   "name": "python",
   "nbconvert_exporter": "python",
   "pygments_lexer": "ipython3",
   "version": "3.10.1"
  },
  "vscode": {
   "interpreter": {
    "hash": "aee8b7b246df8f9039afb4144a1f6fd8d2ca17a180786b69acc140d282b71a49"
   }
  }
 },
 "nbformat": 4,
 "nbformat_minor": 4
}
