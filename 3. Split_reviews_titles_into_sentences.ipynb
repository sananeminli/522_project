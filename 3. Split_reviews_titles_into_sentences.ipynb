{
 "cells": [
  {
   "cell_type": "code",
   "execution_count": 1,
   "metadata": {},
   "outputs": [],
   "source": [
    "import nltk"
   ]
  },
  {
   "cell_type": "code",
   "execution_count": 2,
   "metadata": {},
   "outputs": [
    {
     "name": "stderr",
     "output_type": "stream",
     "text": [
      "[nltk_data] Error loading punkt: <urlopen error [SSL:\n",
      "[nltk_data]     CERTIFICATE_VERIFY_FAILED] certificate verify failed:\n",
      "[nltk_data]     unable to get local issuer certificate (_ssl.c:997)>\n"
     ]
    },
    {
     "data": {
      "text/plain": [
       "False"
      ]
     },
     "execution_count": 2,
     "metadata": {},
     "output_type": "execute_result"
    }
   ],
   "source": [
    "nltk.download('punkt')"
   ]
  },
  {
   "cell_type": "code",
   "execution_count": 3,
   "metadata": {},
   "outputs": [],
   "source": [
    "import pandas as pd"
   ]
  },
  {
   "cell_type": "code",
   "execution_count": 5,
   "metadata": {},
   "outputs": [],
   "source": [
    "data = pd.read_csv('preprocessing_1.csv') "
   ]
  },
  {
   "cell_type": "code",
   "execution_count": 6,
   "metadata": {},
   "outputs": [
    {
     "data": {
      "text/html": [
       "<div>\n",
       "<style scoped>\n",
       "    .dataframe tbody tr th:only-of-type {\n",
       "        vertical-align: middle;\n",
       "    }\n",
       "\n",
       "    .dataframe tbody tr th {\n",
       "        vertical-align: top;\n",
       "    }\n",
       "\n",
       "    .dataframe thead th {\n",
       "        text-align: right;\n",
       "    }\n",
       "</style>\n",
       "<table border=\"1\" class=\"dataframe\">\n",
       "  <thead>\n",
       "    <tr style=\"text-align: right;\">\n",
       "      <th></th>\n",
       "      <th>r_id</th>\n",
       "      <th>app_name</th>\n",
       "      <th>app_id</th>\n",
       "      <th>date</th>\n",
       "      <th>title</th>\n",
       "      <th>review</th>\n",
       "      <th>rating</th>\n",
       "    </tr>\n",
       "  </thead>\n",
       "  <tbody>\n",
       "    <tr>\n",
       "      <th>0</th>\n",
       "      <td>1344</td>\n",
       "      <td>grubhub</td>\n",
       "      <td>302920553</td>\n",
       "      <td>2022-10-06 18:04:56</td>\n",
       "      <td>Drivers are doing too much</td>\n",
       "      <td>1. I've been waiting for an hour so far for my...</td>\n",
       "      <td>3</td>\n",
       "    </tr>\n",
       "    <tr>\n",
       "      <th>1</th>\n",
       "      <td>1344</td>\n",
       "      <td>grubhub</td>\n",
       "      <td>302920553</td>\n",
       "      <td>2022-11-06 07:44:28</td>\n",
       "      <td>Will block you for anything</td>\n",
       "      <td>They blocked my account in sept I have followe...</td>\n",
       "      <td>1</td>\n",
       "    </tr>\n",
       "    <tr>\n",
       "      <th>2</th>\n",
       "      <td>1344</td>\n",
       "      <td>grubhub</td>\n",
       "      <td>302920553</td>\n",
       "      <td>2022-09-26 16:54:30</td>\n",
       "      <td>Used to love GrubHub until I was hacked</td>\n",
       "      <td>I've used GrubHub for years and thought it was...</td>\n",
       "      <td>4</td>\n",
       "    </tr>\n",
       "    <tr>\n",
       "      <th>3</th>\n",
       "      <td>1344</td>\n",
       "      <td>grubhub</td>\n",
       "      <td>302920553</td>\n",
       "      <td>2022-09-26 20:18:27</td>\n",
       "      <td>So far, so Good!</td>\n",
       "      <td>Today is Monday, September 26, 2022, and this ...</td>\n",
       "      <td>1</td>\n",
       "    </tr>\n",
       "    <tr>\n",
       "      <th>4</th>\n",
       "      <td>1344</td>\n",
       "      <td>grubhub</td>\n",
       "      <td>302920553</td>\n",
       "      <td>2022-11-01 20:34:29</td>\n",
       "      <td>Ugh</td>\n",
       "      <td>This company is one of the worst I've ever dea...</td>\n",
       "      <td>1</td>\n",
       "    </tr>\n",
       "    <tr>\n",
       "      <th>...</th>\n",
       "      <td>...</td>\n",
       "      <td>...</td>\n",
       "      <td>...</td>\n",
       "      <td>...</td>\n",
       "      <td>...</td>\n",
       "      <td>...</td>\n",
       "      <td>...</td>\n",
       "    </tr>\n",
       "    <tr>\n",
       "      <th>1340</th>\n",
       "      <td>1344</td>\n",
       "      <td>doordash</td>\n",
       "      <td>719972451</td>\n",
       "      <td>2022-10-09 01:51:21</td>\n",
       "      <td>Horrible experience!</td>\n",
       "      <td>If I could give them zero stars I would! I pla...</td>\n",
       "      <td>1</td>\n",
       "    </tr>\n",
       "    <tr>\n",
       "      <th>1341</th>\n",
       "      <td>1344</td>\n",
       "      <td>doordash</td>\n",
       "      <td>719972451</td>\n",
       "      <td>2022-09-28 18:08:39</td>\n",
       "      <td>Inconsistent &amp; Misleading</td>\n",
       "      <td>The double dash (adding on to an order from an...</td>\n",
       "      <td>2</td>\n",
       "    </tr>\n",
       "    <tr>\n",
       "      <th>1342</th>\n",
       "      <td>1344</td>\n",
       "      <td>doordash</td>\n",
       "      <td>719972451</td>\n",
       "      <td>2022-09-21 22:07:25</td>\n",
       "      <td>Good restaurant options, terrible interface</td>\n",
       "      <td>Every time I use Doordash on my laptop there i...</td>\n",
       "      <td>2</td>\n",
       "    </tr>\n",
       "    <tr>\n",
       "      <th>1343</th>\n",
       "      <td>1344</td>\n",
       "      <td>doordash</td>\n",
       "      <td>719972451</td>\n",
       "      <td>2022-09-16 04:22:50</td>\n",
       "      <td>I love DoorDash but..</td>\n",
       "      <td>Soo I love the convenience of DoorDash but man...</td>\n",
       "      <td>2</td>\n",
       "    </tr>\n",
       "    <tr>\n",
       "      <th>1344</th>\n",
       "      <td>1344</td>\n",
       "      <td>doordash</td>\n",
       "      <td>719972451</td>\n",
       "      <td>2022-09-13 21:12:26</td>\n",
       "      <td>No refund for this???</td>\n",
       "      <td>If I could just load the pictures of how horri...</td>\n",
       "      <td>1</td>\n",
       "    </tr>\n",
       "  </tbody>\n",
       "</table>\n",
       "<p>1345 rows × 7 columns</p>\n",
       "</div>"
      ],
      "text/plain": [
       "      r_id  app_name     app_id                 date  \\\n",
       "0     1344   grubhub  302920553  2022-10-06 18:04:56   \n",
       "1     1344   grubhub  302920553  2022-11-06 07:44:28   \n",
       "2     1344   grubhub  302920553  2022-09-26 16:54:30   \n",
       "3     1344   grubhub  302920553  2022-09-26 20:18:27   \n",
       "4     1344   grubhub  302920553  2022-11-01 20:34:29   \n",
       "...    ...       ...        ...                  ...   \n",
       "1340  1344  doordash  719972451  2022-10-09 01:51:21   \n",
       "1341  1344  doordash  719972451  2022-09-28 18:08:39   \n",
       "1342  1344  doordash  719972451  2022-09-21 22:07:25   \n",
       "1343  1344  doordash  719972451  2022-09-16 04:22:50   \n",
       "1344  1344  doordash  719972451  2022-09-13 21:12:26   \n",
       "\n",
       "                                            title  \\\n",
       "0                      Drivers are doing too much   \n",
       "1                     Will block you for anything   \n",
       "2         Used to love GrubHub until I was hacked   \n",
       "3                                So far, so Good!   \n",
       "4                                             Ugh   \n",
       "...                                           ...   \n",
       "1340                         Horrible experience!   \n",
       "1341                    Inconsistent & Misleading   \n",
       "1342  Good restaurant options, terrible interface   \n",
       "1343                        I love DoorDash but..   \n",
       "1344                        No refund for this???   \n",
       "\n",
       "                                                 review  rating  \n",
       "0     1. I've been waiting for an hour so far for my...       3  \n",
       "1     They blocked my account in sept I have followe...       1  \n",
       "2     I've used GrubHub for years and thought it was...       4  \n",
       "3     Today is Monday, September 26, 2022, and this ...       1  \n",
       "4     This company is one of the worst I've ever dea...       1  \n",
       "...                                                 ...     ...  \n",
       "1340  If I could give them zero stars I would! I pla...       1  \n",
       "1341  The double dash (adding on to an order from an...       2  \n",
       "1342  Every time I use Doordash on my laptop there i...       2  \n",
       "1343  Soo I love the convenience of DoorDash but man...       2  \n",
       "1344  If I could just load the pictures of how horri...       1  \n",
       "\n",
       "[1345 rows x 7 columns]"
      ]
     },
     "execution_count": 6,
     "metadata": {},
     "output_type": "execute_result"
    }
   ],
   "source": [
    "data"
   ]
  },
  {
   "cell_type": "code",
   "execution_count": 7,
   "metadata": {},
   "outputs": [],
   "source": [
    "df = pd.DataFrame(data, columns=['r_id','app_name','app_id', 'date', 'title', 'review', 'rating'])"
   ]
  },
  {
   "cell_type": "code",
   "execution_count": 8,
   "metadata": {},
   "outputs": [
    {
     "data": {
      "text/html": [
       "<div>\n",
       "<style scoped>\n",
       "    .dataframe tbody tr th:only-of-type {\n",
       "        vertical-align: middle;\n",
       "    }\n",
       "\n",
       "    .dataframe tbody tr th {\n",
       "        vertical-align: top;\n",
       "    }\n",
       "\n",
       "    .dataframe thead th {\n",
       "        text-align: right;\n",
       "    }\n",
       "</style>\n",
       "<table border=\"1\" class=\"dataframe\">\n",
       "  <thead>\n",
       "    <tr style=\"text-align: right;\">\n",
       "      <th></th>\n",
       "      <th>r_id</th>\n",
       "      <th>app_name</th>\n",
       "      <th>app_id</th>\n",
       "      <th>date</th>\n",
       "      <th>title</th>\n",
       "      <th>review</th>\n",
       "      <th>rating</th>\n",
       "    </tr>\n",
       "  </thead>\n",
       "  <tbody>\n",
       "    <tr>\n",
       "      <th>0</th>\n",
       "      <td>1344</td>\n",
       "      <td>grubhub</td>\n",
       "      <td>302920553</td>\n",
       "      <td>2022-10-06 18:04:56</td>\n",
       "      <td>Drivers are doing too much</td>\n",
       "      <td>1. I've been waiting for an hour so far for my...</td>\n",
       "      <td>3</td>\n",
       "    </tr>\n",
       "    <tr>\n",
       "      <th>1</th>\n",
       "      <td>1344</td>\n",
       "      <td>grubhub</td>\n",
       "      <td>302920553</td>\n",
       "      <td>2022-11-06 07:44:28</td>\n",
       "      <td>Will block you for anything</td>\n",
       "      <td>They blocked my account in sept I have followe...</td>\n",
       "      <td>1</td>\n",
       "    </tr>\n",
       "    <tr>\n",
       "      <th>2</th>\n",
       "      <td>1344</td>\n",
       "      <td>grubhub</td>\n",
       "      <td>302920553</td>\n",
       "      <td>2022-09-26 16:54:30</td>\n",
       "      <td>Used to love GrubHub until I was hacked</td>\n",
       "      <td>I've used GrubHub for years and thought it was...</td>\n",
       "      <td>4</td>\n",
       "    </tr>\n",
       "    <tr>\n",
       "      <th>3</th>\n",
       "      <td>1344</td>\n",
       "      <td>grubhub</td>\n",
       "      <td>302920553</td>\n",
       "      <td>2022-09-26 20:18:27</td>\n",
       "      <td>So far, so Good!</td>\n",
       "      <td>Today is Monday, September 26, 2022, and this ...</td>\n",
       "      <td>1</td>\n",
       "    </tr>\n",
       "    <tr>\n",
       "      <th>4</th>\n",
       "      <td>1344</td>\n",
       "      <td>grubhub</td>\n",
       "      <td>302920553</td>\n",
       "      <td>2022-11-01 20:34:29</td>\n",
       "      <td>Ugh</td>\n",
       "      <td>This company is one of the worst I've ever dea...</td>\n",
       "      <td>1</td>\n",
       "    </tr>\n",
       "    <tr>\n",
       "      <th>...</th>\n",
       "      <td>...</td>\n",
       "      <td>...</td>\n",
       "      <td>...</td>\n",
       "      <td>...</td>\n",
       "      <td>...</td>\n",
       "      <td>...</td>\n",
       "      <td>...</td>\n",
       "    </tr>\n",
       "    <tr>\n",
       "      <th>1340</th>\n",
       "      <td>1344</td>\n",
       "      <td>doordash</td>\n",
       "      <td>719972451</td>\n",
       "      <td>2022-10-09 01:51:21</td>\n",
       "      <td>Horrible experience!</td>\n",
       "      <td>If I could give them zero stars I would! I pla...</td>\n",
       "      <td>1</td>\n",
       "    </tr>\n",
       "    <tr>\n",
       "      <th>1341</th>\n",
       "      <td>1344</td>\n",
       "      <td>doordash</td>\n",
       "      <td>719972451</td>\n",
       "      <td>2022-09-28 18:08:39</td>\n",
       "      <td>Inconsistent &amp; Misleading</td>\n",
       "      <td>The double dash (adding on to an order from an...</td>\n",
       "      <td>2</td>\n",
       "    </tr>\n",
       "    <tr>\n",
       "      <th>1342</th>\n",
       "      <td>1344</td>\n",
       "      <td>doordash</td>\n",
       "      <td>719972451</td>\n",
       "      <td>2022-09-21 22:07:25</td>\n",
       "      <td>Good restaurant options, terrible interface</td>\n",
       "      <td>Every time I use Doordash on my laptop there i...</td>\n",
       "      <td>2</td>\n",
       "    </tr>\n",
       "    <tr>\n",
       "      <th>1343</th>\n",
       "      <td>1344</td>\n",
       "      <td>doordash</td>\n",
       "      <td>719972451</td>\n",
       "      <td>2022-09-16 04:22:50</td>\n",
       "      <td>I love DoorDash but..</td>\n",
       "      <td>Soo I love the convenience of DoorDash but man...</td>\n",
       "      <td>2</td>\n",
       "    </tr>\n",
       "    <tr>\n",
       "      <th>1344</th>\n",
       "      <td>1344</td>\n",
       "      <td>doordash</td>\n",
       "      <td>719972451</td>\n",
       "      <td>2022-09-13 21:12:26</td>\n",
       "      <td>No refund for this???</td>\n",
       "      <td>If I could just load the pictures of how horri...</td>\n",
       "      <td>1</td>\n",
       "    </tr>\n",
       "  </tbody>\n",
       "</table>\n",
       "<p>1345 rows × 7 columns</p>\n",
       "</div>"
      ],
      "text/plain": [
       "      r_id  app_name     app_id                 date  \\\n",
       "0     1344   grubhub  302920553  2022-10-06 18:04:56   \n",
       "1     1344   grubhub  302920553  2022-11-06 07:44:28   \n",
       "2     1344   grubhub  302920553  2022-09-26 16:54:30   \n",
       "3     1344   grubhub  302920553  2022-09-26 20:18:27   \n",
       "4     1344   grubhub  302920553  2022-11-01 20:34:29   \n",
       "...    ...       ...        ...                  ...   \n",
       "1340  1344  doordash  719972451  2022-10-09 01:51:21   \n",
       "1341  1344  doordash  719972451  2022-09-28 18:08:39   \n",
       "1342  1344  doordash  719972451  2022-09-21 22:07:25   \n",
       "1343  1344  doordash  719972451  2022-09-16 04:22:50   \n",
       "1344  1344  doordash  719972451  2022-09-13 21:12:26   \n",
       "\n",
       "                                            title  \\\n",
       "0                      Drivers are doing too much   \n",
       "1                     Will block you for anything   \n",
       "2         Used to love GrubHub until I was hacked   \n",
       "3                                So far, so Good!   \n",
       "4                                             Ugh   \n",
       "...                                           ...   \n",
       "1340                         Horrible experience!   \n",
       "1341                    Inconsistent & Misleading   \n",
       "1342  Good restaurant options, terrible interface   \n",
       "1343                        I love DoorDash but..   \n",
       "1344                        No refund for this???   \n",
       "\n",
       "                                                 review  rating  \n",
       "0     1. I've been waiting for an hour so far for my...       3  \n",
       "1     They blocked my account in sept I have followe...       1  \n",
       "2     I've used GrubHub for years and thought it was...       4  \n",
       "3     Today is Monday, September 26, 2022, and this ...       1  \n",
       "4     This company is one of the worst I've ever dea...       1  \n",
       "...                                                 ...     ...  \n",
       "1340  If I could give them zero stars I would! I pla...       1  \n",
       "1341  The double dash (adding on to an order from an...       2  \n",
       "1342  Every time I use Doordash on my laptop there i...       2  \n",
       "1343  Soo I love the convenience of DoorDash but man...       2  \n",
       "1344  If I could just load the pictures of how horri...       1  \n",
       "\n",
       "[1345 rows x 7 columns]"
      ]
     },
     "execution_count": 8,
     "metadata": {},
     "output_type": "execute_result"
    }
   ],
   "source": [
    "df"
   ]
  },
  {
   "cell_type": "code",
   "execution_count": 9,
   "metadata": {},
   "outputs": [
    {
     "ename": "LookupError",
     "evalue": "\n**********************************************************************\n  Resource \u001b[93mpunkt\u001b[0m not found.\n  Please use the NLTK Downloader to obtain the resource:\n\n  \u001b[31m>>> import nltk\n  >>> nltk.download('punkt')\n  \u001b[0m\n  For more information see: https://www.nltk.org/data.html\n\n  Attempted to load \u001b[93mtokenizers/punkt/PY3/english.pickle\u001b[0m\n\n  Searched in:\n    - '/Users/canseluzun/nltk_data'\n    - '/Library/Frameworks/Python.framework/Versions/3.10/nltk_data'\n    - '/Library/Frameworks/Python.framework/Versions/3.10/share/nltk_data'\n    - '/Library/Frameworks/Python.framework/Versions/3.10/lib/nltk_data'\n    - '/usr/share/nltk_data'\n    - '/usr/local/share/nltk_data'\n    - '/usr/lib/nltk_data'\n    - '/usr/local/lib/nltk_data'\n    - ''\n**********************************************************************\n",
     "output_type": "error",
     "traceback": [
      "\u001b[0;31m---------------------------------------------------------------------------\u001b[0m",
      "\u001b[0;31mLookupError\u001b[0m                               Traceback (most recent call last)",
      "Cell \u001b[0;32mIn[9], line 5\u001b[0m\n\u001b[1;32m      3\u001b[0m \u001b[39m# Split each review into sentences\u001b[39;00m\n\u001b[1;32m      4\u001b[0m \u001b[39mfor\u001b[39;00m x \u001b[39min\u001b[39;00m \u001b[39mrange\u001b[39m(\u001b[39mlen\u001b[39m(df)):\n\u001b[0;32m----> 5\u001b[0m     sentences \u001b[39m=\u001b[39m nltk\u001b[39m.\u001b[39;49mtokenize\u001b[39m.\u001b[39;49msent_tokenize(df[\u001b[39m'\u001b[39;49m\u001b[39mreview\u001b[39;49m\u001b[39m'\u001b[39;49m][x])\n\u001b[1;32m      6\u001b[0m     \u001b[39mfor\u001b[39;00m sentence \u001b[39min\u001b[39;00m sentences:\n\u001b[1;32m      7\u001b[0m         table[\u001b[39m\"\u001b[39m\u001b[39mr_id\u001b[39m\u001b[39m\"\u001b[39m]\u001b[39m.\u001b[39mappend(df[\u001b[39m'\u001b[39m\u001b[39mr_id\u001b[39m\u001b[39m'\u001b[39m][x])\n",
      "File \u001b[0;32m/Library/Frameworks/Python.framework/Versions/3.10/lib/python3.10/site-packages/nltk/tokenize/__init__.py:106\u001b[0m, in \u001b[0;36msent_tokenize\u001b[0;34m(text, language)\u001b[0m\n\u001b[1;32m     96\u001b[0m \u001b[39mdef\u001b[39;00m \u001b[39msent_tokenize\u001b[39m(text, language\u001b[39m=\u001b[39m\u001b[39m\"\u001b[39m\u001b[39menglish\u001b[39m\u001b[39m\"\u001b[39m):\n\u001b[1;32m     97\u001b[0m     \u001b[39m\"\"\"\u001b[39;00m\n\u001b[1;32m     98\u001b[0m \u001b[39m    Return a sentence-tokenized copy of *text*,\u001b[39;00m\n\u001b[1;32m     99\u001b[0m \u001b[39m    using NLTK's recommended sentence tokenizer\u001b[39;00m\n\u001b[0;32m   (...)\u001b[0m\n\u001b[1;32m    104\u001b[0m \u001b[39m    :param language: the model name in the Punkt corpus\u001b[39;00m\n\u001b[1;32m    105\u001b[0m \u001b[39m    \"\"\"\u001b[39;00m\n\u001b[0;32m--> 106\u001b[0m     tokenizer \u001b[39m=\u001b[39m load(\u001b[39mf\u001b[39;49m\u001b[39m\"\u001b[39;49m\u001b[39mtokenizers/punkt/\u001b[39;49m\u001b[39m{\u001b[39;49;00mlanguage\u001b[39m}\u001b[39;49;00m\u001b[39m.pickle\u001b[39;49m\u001b[39m\"\u001b[39;49m)\n\u001b[1;32m    107\u001b[0m     \u001b[39mreturn\u001b[39;00m tokenizer\u001b[39m.\u001b[39mtokenize(text)\n",
      "File \u001b[0;32m/Library/Frameworks/Python.framework/Versions/3.10/lib/python3.10/site-packages/nltk/data.py:750\u001b[0m, in \u001b[0;36mload\u001b[0;34m(resource_url, format, cache, verbose, logic_parser, fstruct_reader, encoding)\u001b[0m\n\u001b[1;32m    747\u001b[0m     \u001b[39mprint\u001b[39m(\u001b[39mf\u001b[39m\u001b[39m\"\u001b[39m\u001b[39m<<Loading \u001b[39m\u001b[39m{\u001b[39;00mresource_url\u001b[39m}\u001b[39;00m\u001b[39m>>\u001b[39m\u001b[39m\"\u001b[39m)\n\u001b[1;32m    749\u001b[0m \u001b[39m# Load the resource.\u001b[39;00m\n\u001b[0;32m--> 750\u001b[0m opened_resource \u001b[39m=\u001b[39m _open(resource_url)\n\u001b[1;32m    752\u001b[0m \u001b[39mif\u001b[39;00m \u001b[39mformat\u001b[39m \u001b[39m==\u001b[39m \u001b[39m\"\u001b[39m\u001b[39mraw\u001b[39m\u001b[39m\"\u001b[39m:\n\u001b[1;32m    753\u001b[0m     resource_val \u001b[39m=\u001b[39m opened_resource\u001b[39m.\u001b[39mread()\n",
      "File \u001b[0;32m/Library/Frameworks/Python.framework/Versions/3.10/lib/python3.10/site-packages/nltk/data.py:876\u001b[0m, in \u001b[0;36m_open\u001b[0;34m(resource_url)\u001b[0m\n\u001b[1;32m    873\u001b[0m protocol, path_ \u001b[39m=\u001b[39m split_resource_url(resource_url)\n\u001b[1;32m    875\u001b[0m \u001b[39mif\u001b[39;00m protocol \u001b[39mis\u001b[39;00m \u001b[39mNone\u001b[39;00m \u001b[39mor\u001b[39;00m protocol\u001b[39m.\u001b[39mlower() \u001b[39m==\u001b[39m \u001b[39m\"\u001b[39m\u001b[39mnltk\u001b[39m\u001b[39m\"\u001b[39m:\n\u001b[0;32m--> 876\u001b[0m     \u001b[39mreturn\u001b[39;00m find(path_, path \u001b[39m+\u001b[39;49m [\u001b[39m\"\u001b[39;49m\u001b[39m\"\u001b[39;49m])\u001b[39m.\u001b[39mopen()\n\u001b[1;32m    877\u001b[0m \u001b[39melif\u001b[39;00m protocol\u001b[39m.\u001b[39mlower() \u001b[39m==\u001b[39m \u001b[39m\"\u001b[39m\u001b[39mfile\u001b[39m\u001b[39m\"\u001b[39m:\n\u001b[1;32m    878\u001b[0m     \u001b[39m# urllib might not use mode='rb', so handle this one ourselves:\u001b[39;00m\n\u001b[1;32m    879\u001b[0m     \u001b[39mreturn\u001b[39;00m find(path_, [\u001b[39m\"\u001b[39m\u001b[39m\"\u001b[39m])\u001b[39m.\u001b[39mopen()\n",
      "File \u001b[0;32m/Library/Frameworks/Python.framework/Versions/3.10/lib/python3.10/site-packages/nltk/data.py:583\u001b[0m, in \u001b[0;36mfind\u001b[0;34m(resource_name, paths)\u001b[0m\n\u001b[1;32m    581\u001b[0m sep \u001b[39m=\u001b[39m \u001b[39m\"\u001b[39m\u001b[39m*\u001b[39m\u001b[39m\"\u001b[39m \u001b[39m*\u001b[39m \u001b[39m70\u001b[39m\n\u001b[1;32m    582\u001b[0m resource_not_found \u001b[39m=\u001b[39m \u001b[39mf\u001b[39m\u001b[39m\"\u001b[39m\u001b[39m\\n\u001b[39;00m\u001b[39m{\u001b[39;00msep\u001b[39m}\u001b[39;00m\u001b[39m\\n\u001b[39;00m\u001b[39m{\u001b[39;00mmsg\u001b[39m}\u001b[39;00m\u001b[39m\\n\u001b[39;00m\u001b[39m{\u001b[39;00msep\u001b[39m}\u001b[39;00m\u001b[39m\\n\u001b[39;00m\u001b[39m\"\u001b[39m\n\u001b[0;32m--> 583\u001b[0m \u001b[39mraise\u001b[39;00m \u001b[39mLookupError\u001b[39;00m(resource_not_found)\n",
      "\u001b[0;31mLookupError\u001b[0m: \n**********************************************************************\n  Resource \u001b[93mpunkt\u001b[0m not found.\n  Please use the NLTK Downloader to obtain the resource:\n\n  \u001b[31m>>> import nltk\n  >>> nltk.download('punkt')\n  \u001b[0m\n  For more information see: https://www.nltk.org/data.html\n\n  Attempted to load \u001b[93mtokenizers/punkt/PY3/english.pickle\u001b[0m\n\n  Searched in:\n    - '/Users/canseluzun/nltk_data'\n    - '/Library/Frameworks/Python.framework/Versions/3.10/nltk_data'\n    - '/Library/Frameworks/Python.framework/Versions/3.10/share/nltk_data'\n    - '/Library/Frameworks/Python.framework/Versions/3.10/lib/nltk_data'\n    - '/usr/share/nltk_data'\n    - '/usr/local/share/nltk_data'\n    - '/usr/lib/nltk_data'\n    - '/usr/local/lib/nltk_data'\n    - ''\n**********************************************************************\n"
     ]
    }
   ],
   "source": [
    "table = {\"r_id\": [], \"app_name\": [], \"app_id\": [], \"date\": [], \"title\": [], \"review\": [], \"rating\": []}\n",
    "\n",
    "# Split each review into sentences\n",
    "for x in range(len(df)):\n",
    "    sentences = nltk.tokenize.sent_tokenize(df['review'][x])\n",
    "    for sentence in sentences:\n",
    "        table[\"r_id\"].append(df['r_id'][x])\n",
    "        table[\"app_name\"].append(df['app_name'][x])\n",
    "        table[\"app_id\"].append(df['app_id'][x])\n",
    "        table[\"date\"].append(df['date'][x])\n",
    "        table[\"title\"].append(df['title'][x])\n",
    "        table[\"review\"].append(sentence)\n",
    "        table[\"rating\"].append(df['rating'][x])"
   ]
  },
  {
   "cell_type": "code",
   "execution_count": 69,
   "metadata": {},
   "outputs": [],
   "source": [
    "df=pd.DataFrame.from_dict(table,orient='index').transpose()\n",
    "df.to_csv('splitted_reviews_into_sentences.csv', index = False)"
   ]
  },
  {
   "cell_type": "code",
   "execution_count": 70,
   "metadata": {},
   "outputs": [],
   "source": [
    "df = pd.DataFrame(data, columns=['r_id','app_name','app_id', 'date', 'title', 'review', 'rating'])"
   ]
  },
  {
   "cell_type": "code",
   "execution_count": 71,
   "metadata": {},
   "outputs": [],
   "source": [
    "data = pd.read_csv('splitted_reviews_into_sentences.csv') \n",
    "df = pd.DataFrame(data, columns=['r_id','app_name','app_id', 'date', 'title', 'review', 'rating'])"
   ]
  },
  {
   "cell_type": "code",
   "execution_count": 72,
   "metadata": {},
   "outputs": [
    {
     "data": {
      "text/plain": [
       "14619"
      ]
     },
     "execution_count": 72,
     "metadata": {},
     "output_type": "execute_result"
    }
   ],
   "source": [
    "len(df)"
   ]
  },
  {
   "cell_type": "code",
   "execution_count": 73,
   "metadata": {},
   "outputs": [
    {
     "ename": "AttributeError",
     "evalue": "'int' object has no attribute 'value'",
     "output_type": "error",
     "traceback": [
      "\u001b[1;31m---------------------------------------------------------------------------\u001b[0m",
      "\u001b[1;31mAttributeError\u001b[0m                            Traceback (most recent call last)",
      "\u001b[1;32m<ipython-input-73-181609363dd8>\u001b[0m in \u001b[0;36m<module>\u001b[1;34m\u001b[0m\n\u001b[0;32m      3\u001b[0m \u001b[0mdf\u001b[0m \u001b[1;33m=\u001b[0m \u001b[0mdf\u001b[0m\u001b[1;33m.\u001b[0m\u001b[0mrename\u001b[0m\u001b[1;33m(\u001b[0m\u001b[0mcolumns\u001b[0m\u001b[1;33m=\u001b[0m\u001b[1;33m{\u001b[0m\u001b[1;34m\"index\"\u001b[0m\u001b[1;33m:\u001b[0m\u001b[1;34m\"s_id\"\u001b[0m\u001b[1;33m}\u001b[0m\u001b[1;33m)\u001b[0m\u001b[1;33m\u001b[0m\u001b[1;33m\u001b[0m\u001b[0m\n\u001b[0;32m      4\u001b[0m \u001b[1;32mfor\u001b[0m \u001b[0mx\u001b[0m \u001b[1;32min\u001b[0m \u001b[0mrange\u001b[0m\u001b[1;33m(\u001b[0m\u001b[0mlen\u001b[0m\u001b[1;33m(\u001b[0m\u001b[0mdf\u001b[0m\u001b[1;33m)\u001b[0m\u001b[1;33m)\u001b[0m\u001b[1;33m:\u001b[0m\u001b[1;33m\u001b[0m\u001b[1;33m\u001b[0m\u001b[0m\n\u001b[1;32m----> 5\u001b[1;33m     \u001b[0mdf\u001b[0m\u001b[1;33m[\u001b[0m\u001b[1;34m's_id'\u001b[0m\u001b[1;33m]\u001b[0m \u001b[1;33m=\u001b[0m \u001b[0mstr\u001b[0m\u001b[1;33m(\u001b[0m\u001b[0mdf\u001b[0m\u001b[1;33m[\u001b[0m\u001b[1;34m'r_id'\u001b[0m\u001b[1;33m]\u001b[0m\u001b[1;33m[\u001b[0m\u001b[0mx\u001b[0m\u001b[1;33m]\u001b[0m\u001b[1;33m)\u001b[0m \u001b[1;33m+\u001b[0m \u001b[0mx\u001b[0m\u001b[1;33m.\u001b[0m\u001b[0mvalue\u001b[0m\u001b[1;33m\u001b[0m\u001b[1;33m\u001b[0m\u001b[0m\n\u001b[0m",
      "\u001b[1;31mAttributeError\u001b[0m: 'int' object has no attribute 'value'"
     ]
    }
   ],
   "source": [
    "# Add sentence ID column\n",
    "df = df.reset_index()\n",
    "df = df.rename(columns={\"index\":\"s_id\"})\n",
    "for x in range(len(df)):\n",
    "    df['s_id'] = str(df['r_id'][x]) + x.value"
   ]
  },
  {
   "cell_type": "code",
   "execution_count": 74,
   "metadata": {},
   "outputs": [
    {
     "data": {
      "text/html": [
       "<div>\n",
       "<style scoped>\n",
       "    .dataframe tbody tr th:only-of-type {\n",
       "        vertical-align: middle;\n",
       "    }\n",
       "\n",
       "    .dataframe tbody tr th {\n",
       "        vertical-align: top;\n",
       "    }\n",
       "\n",
       "    .dataframe thead th {\n",
       "        text-align: right;\n",
       "    }\n",
       "</style>\n",
       "<table border=\"1\" class=\"dataframe\">\n",
       "  <thead>\n",
       "    <tr style=\"text-align: right;\">\n",
       "      <th></th>\n",
       "      <th>s_id</th>\n",
       "      <th>r_id</th>\n",
       "      <th>app_name</th>\n",
       "      <th>app_id</th>\n",
       "      <th>date</th>\n",
       "      <th>title</th>\n",
       "      <th>review</th>\n",
       "      <th>rating</th>\n",
       "    </tr>\n",
       "  </thead>\n",
       "  <tbody>\n",
       "    <tr>\n",
       "      <th>0</th>\n",
       "      <td>0</td>\n",
       "      <td>0</td>\n",
       "      <td>hungerstation</td>\n",
       "      <td>596011949</td>\n",
       "      <td>4/24/2020 17:03</td>\n",
       "      <td>Good app</td>\n",
       "      <td>A very decent app.</td>\n",
       "      <td>4</td>\n",
       "    </tr>\n",
       "    <tr>\n",
       "      <th>1</th>\n",
       "      <td>1</td>\n",
       "      <td>0</td>\n",
       "      <td>hungerstation</td>\n",
       "      <td>596011949</td>\n",
       "      <td>4/24/2020 17:03</td>\n",
       "      <td>Good app</td>\n",
       "      <td>Does the job pretty well.</td>\n",
       "      <td>4</td>\n",
       "    </tr>\n",
       "    <tr>\n",
       "      <th>2</th>\n",
       "      <td>2</td>\n",
       "      <td>0</td>\n",
       "      <td>hungerstation</td>\n",
       "      <td>596011949</td>\n",
       "      <td>4/24/2020 17:03</td>\n",
       "      <td>Good app</td>\n",
       "      <td>Hats off to them for delivering in my area not...</td>\n",
       "      <td>4</td>\n",
       "    </tr>\n",
       "    <tr>\n",
       "      <th>3</th>\n",
       "      <td>3</td>\n",
       "      <td>0</td>\n",
       "      <td>hungerstation</td>\n",
       "      <td>596011949</td>\n",
       "      <td>4/24/2020 17:03</td>\n",
       "      <td>Good app</td>\n",
       "      <td>The order so far is always accurate however th...</td>\n",
       "      <td>4</td>\n",
       "    </tr>\n",
       "    <tr>\n",
       "      <th>4</th>\n",
       "      <td>4</td>\n",
       "      <td>0</td>\n",
       "      <td>hungerstation</td>\n",
       "      <td>596011949</td>\n",
       "      <td>4/24/2020 17:03</td>\n",
       "      <td>Good app</td>\n",
       "      <td>I do not use use debit/credit card so now I ca...</td>\n",
       "      <td>4</td>\n",
       "    </tr>\n",
       "    <tr>\n",
       "      <th>...</th>\n",
       "      <td>...</td>\n",
       "      <td>...</td>\n",
       "      <td>...</td>\n",
       "      <td>...</td>\n",
       "      <td>...</td>\n",
       "      <td>...</td>\n",
       "      <td>...</td>\n",
       "      <td>...</td>\n",
       "    </tr>\n",
       "    <tr>\n",
       "      <th>14614</th>\n",
       "      <td>14614</td>\n",
       "      <td>10827</td>\n",
       "      <td>theChefz</td>\n",
       "      <td>1139450244</td>\n",
       "      <td>2020-04-26 13:00:47</td>\n",
       "      <td>Bad app</td>\n",
       "      <td>الصراحة من اسواء الابليكشنات اللي نزلتها و كذا...</td>\n",
       "      <td>1</td>\n",
       "    </tr>\n",
       "    <tr>\n",
       "      <th>14615</th>\n",
       "      <td>14615</td>\n",
       "      <td>10828</td>\n",
       "      <td>theChefz</td>\n",
       "      <td>1139450244</td>\n",
       "      <td>2020-04-09 07:02:05</td>\n",
       "      <td>الأسعار!</td>\n",
       "      <td>لم تتم تجربته ولكن اسعار المنتجات بالتطبيقات (...</td>\n",
       "      <td>1</td>\n",
       "    </tr>\n",
       "    <tr>\n",
       "      <th>14616</th>\n",
       "      <td>14616</td>\n",
       "      <td>10829</td>\n",
       "      <td>theChefz</td>\n",
       "      <td>1139450244</td>\n",
       "      <td>2020-03-21 16:36:46</td>\n",
       "      <td>تطبيق مميز</td>\n",
       "      <td>خيارات راقية ومتنوعية من المطاعم ومحلات الحلوي...</td>\n",
       "      <td>5</td>\n",
       "    </tr>\n",
       "    <tr>\n",
       "      <th>14617</th>\n",
       "      <td>14617</td>\n",
       "      <td>10830</td>\n",
       "      <td>theChefz</td>\n",
       "      <td>1139450244</td>\n",
       "      <td>2020-01-26 13:50:40</td>\n",
       "      <td>So bad</td>\n",
       "      <td>تطبيق سيئ وتعاملهم سيئ وكل مافيه سيئ</td>\n",
       "      <td>1</td>\n",
       "    </tr>\n",
       "    <tr>\n",
       "      <th>14618</th>\n",
       "      <td>14618</td>\n",
       "      <td>10831</td>\n",
       "      <td>theChefz</td>\n",
       "      <td>1139450244</td>\n",
       "      <td>2021-10-08 07:43:55</td>\n",
       "      <td>الدمام</td>\n",
       "      <td>اسعار التوصيل اوفر مره</td>\n",
       "      <td>4</td>\n",
       "    </tr>\n",
       "  </tbody>\n",
       "</table>\n",
       "<p>14619 rows × 8 columns</p>\n",
       "</div>"
      ],
      "text/plain": [
       "        s_id   r_id       app_name      app_id                 date  \\\n",
       "0          0      0  hungerstation   596011949      4/24/2020 17:03   \n",
       "1          1      0  hungerstation   596011949      4/24/2020 17:03   \n",
       "2          2      0  hungerstation   596011949      4/24/2020 17:03   \n",
       "3          3      0  hungerstation   596011949      4/24/2020 17:03   \n",
       "4          4      0  hungerstation   596011949      4/24/2020 17:03   \n",
       "...      ...    ...            ...         ...                  ...   \n",
       "14614  14614  10827       theChefz  1139450244  2020-04-26 13:00:47   \n",
       "14615  14615  10828       theChefz  1139450244  2020-04-09 07:02:05   \n",
       "14616  14616  10829       theChefz  1139450244  2020-03-21 16:36:46   \n",
       "14617  14617  10830       theChefz  1139450244  2020-01-26 13:50:40   \n",
       "14618  14618  10831       theChefz  1139450244  2021-10-08 07:43:55   \n",
       "\n",
       "            title                                             review  rating  \n",
       "0        Good app                                 A very decent app.       4  \n",
       "1        Good app                          Does the job pretty well.       4  \n",
       "2        Good app  Hats off to them for delivering in my area not...       4  \n",
       "3        Good app  The order so far is always accurate however th...       4  \n",
       "4        Good app  I do not use use debit/credit card so now I ca...       4  \n",
       "...           ...                                                ...     ...  \n",
       "14614     Bad app  الصراحة من اسواء الابليكشنات اللي نزلتها و كذا...       1  \n",
       "14615    الأسعار!  لم تتم تجربته ولكن اسعار المنتجات بالتطبيقات (...       1  \n",
       "14616  تطبيق مميز  خيارات راقية ومتنوعية من المطاعم ومحلات الحلوي...       5  \n",
       "14617      So bad               تطبيق سيئ وتعاملهم سيئ وكل مافيه سيئ       1  \n",
       "14618      الدمام                             اسعار التوصيل اوفر مره       4  \n",
       "\n",
       "[14619 rows x 8 columns]"
      ]
     },
     "execution_count": 74,
     "metadata": {},
     "output_type": "execute_result"
    }
   ],
   "source": [
    "df"
   ]
  },
  {
   "cell_type": "code",
   "execution_count": 75,
   "metadata": {},
   "outputs": [],
   "source": [
    "table = {\"s_id\": [], \"r_id\": [], \"app_name\": [], \"app_id\": [], \"date\": [], \"title\": [], \"review\": [], \"rating\": []}\n",
    "\n",
    "for x in range(len(df)):\n",
    "        table[\"s_id\"].append(df['s_id'][x])\n",
    "        table[\"r_id\"].append(df['r_id'][x])\n",
    "        table[\"app_name\"].append(df['app_name'][x])\n",
    "        table[\"app_id\"].append(df['app_id'][x])\n",
    "        table[\"date\"].append(df['date'][x])\n",
    "        table[\"title\"].append(df['title'][x])\n",
    "        table[\"review\"].append(df['review'][x])\n",
    "        table[\"rating\"].append(df['rating'][x])"
   ]
  },
  {
   "cell_type": "code",
   "execution_count": 77,
   "metadata": {},
   "outputs": [],
   "source": [
    "df=pd.DataFrame.from_dict(table,orient='index').transpose()\n",
    "df.to_csv('splitted_reviews_into_sentences_sID.csv', index = False)"
   ]
  },
  {
   "cell_type": "code",
   "execution_count": 78,
   "metadata": {},
   "outputs": [
    {
     "data": {
      "text/plain": [
       "14619"
      ]
     },
     "execution_count": 78,
     "metadata": {},
     "output_type": "execute_result"
    }
   ],
   "source": [
    "len(df)"
   ]
  },
  {
   "cell_type": "code",
   "execution_count": 55,
   "metadata": {},
   "outputs": [
    {
     "data": {
      "text/plain": [
       "'i got a problem where the driver said that the restaurant did not receive the order. \\n\\ni am rating this a one because no zero\\n\\nalso rating zero because there is no number or quick way to contact the app support to resolve this issue'"
      ]
     },
     "execution_count": 55,
     "metadata": {},
     "output_type": "execute_result"
    }
   ],
   "source": [
    "df['review'][149]"
   ]
  },
  {
   "cell_type": "markdown",
   "metadata": {},
   "source": [
    "# Correct sentences spelling and grammar mistakes"
   ]
  },
  {
   "cell_type": "code",
   "execution_count": 2,
   "metadata": {},
   "outputs": [
    {
     "name": "stdout",
     "output_type": "stream",
     "text": [
      "Requirement already satisfied: gingerit in c:\\users\\nadee\\anaconda3\\lib\\site-packages (0.8.2)\n",
      "Requirement already satisfied: requests<3.0.0,>=2.25.1 in c:\\users\\nadee\\anaconda3\\lib\\site-packages (from gingerit) (2.26.0)\n",
      "Requirement already satisfied: urllib3<1.27,>=1.21.1 in c:\\users\\nadee\\anaconda3\\lib\\site-packages (from requests<3.0.0,>=2.25.1->gingerit) (1.25.9)\n",
      "Requirement already satisfied: charset-normalizer~=2.0.0; python_version >= \"3\" in c:\\users\\nadee\\anaconda3\\lib\\site-packages (from requests<3.0.0,>=2.25.1->gingerit) (2.0.7)\n",
      "Requirement already satisfied: idna<4,>=2.5; python_version >= \"3\" in c:\\users\\nadee\\anaconda3\\lib\\site-packages (from requests<3.0.0,>=2.25.1->gingerit) (2.10)\n",
      "Requirement already satisfied: certifi>=2017.4.17 in c:\\users\\nadee\\anaconda3\\lib\\site-packages (from requests<3.0.0,>=2.25.1->gingerit) (2020.6.20)\n",
      "Note: you may need to restart the kernel to use updated packages.\n"
     ]
    }
   ],
   "source": [
    "pip install gingerit"
   ]
  },
  {
   "cell_type": "code",
   "execution_count": 1,
   "metadata": {},
   "outputs": [],
   "source": [
    "from gingerit.gingerit import GingerIt"
   ]
  },
  {
   "cell_type": "code",
   "execution_count": 15,
   "metadata": {},
   "outputs": [],
   "source": [
    "# text = 'also rating zero because there is no number or quick way contactee app support to resolved this issue'\n",
    "text = 'didnt bother check whatsapp conversation sent'\n"
   ]
  },
  {
   "cell_type": "code",
   "execution_count": 19,
   "metadata": {},
   "outputs": [
    {
     "data": {
      "text/plain": [
       "\"Didn't bother checking WhatsApp conversation sent\""
      ]
     },
     "execution_count": 19,
     "metadata": {},
     "output_type": "execute_result"
    }
   ],
   "source": [
    "parser = GingerIt()\n",
    "parser.parse(text)['result']"
   ]
  }
 ],
 "metadata": {
  "kernelspec": {
   "display_name": "Python 3",
   "language": "python",
   "name": "python3"
  },
  "language_info": {
   "codemirror_mode": {
    "name": "ipython",
    "version": 3
   },
   "file_extension": ".py",
   "mimetype": "text/x-python",
   "name": "python",
   "nbconvert_exporter": "python",
   "pygments_lexer": "ipython3",
   "version": "3.10.1"
  },
  "vscode": {
   "interpreter": {
    "hash": "aee8b7b246df8f9039afb4144a1f6fd8d2ca17a180786b69acc140d282b71a49"
   }
  }
 },
 "nbformat": 4,
 "nbformat_minor": 4
}
