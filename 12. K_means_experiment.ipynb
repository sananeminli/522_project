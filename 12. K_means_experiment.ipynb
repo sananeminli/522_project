{
 "cells": [
  {
   "cell_type": "code",
   "execution_count": 32,
   "metadata": {},
   "outputs": [],
   "source": [
    "from sklearn.cluster import KMeans\n",
    "import pandas as pd\n",
    "from matplotlib import pyplot as plt\n",
    "import numpy as np\n",
    "from scipy import spatial\n",
    "from sklearn.preprocessing import MinMaxScaler"
   ]
  },
  {
   "cell_type": "code",
   "execution_count": 33,
   "metadata": {},
   "outputs": [],
   "source": [
    "data = pd.read_csv('FINAL_FINAL_SCALED_DATA.csv') \n",
    "\n",
    "df = pd.DataFrame(data, columns=['feature', 'feature_neutral', 'feature_frequency', 'feature_dissatisfaction','feature_satisfaction'])"
   ]
  },
  {
   "cell_type": "code",
   "execution_count": 34,
   "metadata": {},
   "outputs": [],
   "source": [
    "for x in range(len(df)):\n",
    "    if df['feature_satisfaction'][x] == 0 and df['feature_dissatisfaction'][x] == 0:\n",
    "        print(df['feature'][x])\n",
    "        df.drop(x, inplace=True)\n",
    "        \n",
    "df = df.reset_index(drop=True)"
   ]
  },
  {
   "cell_type": "markdown",
   "metadata": {},
   "source": [
    "# 1. Experiments"
   ]
  },
  {
   "cell_type": "code",
   "execution_count": null,
   "metadata": {},
   "outputs": [],
   "source": [
    "# 2 attributes (satisfaction - dissatisfaction)\n",
    "# 3 clusters \n",
    "# 4 clusters\n",
    "# 5 clusters"
   ]
  },
  {
   "cell_type": "markdown",
   "metadata": {},
   "source": [
    "## 3 clusters "
   ]
  },
  {
   "cell_type": "code",
   "execution_count": 35,
   "metadata": {},
   "outputs": [
    {
     "name": "stderr",
     "output_type": "stream",
     "text": [
      "c:\\Users\\Senan\\AppData\\Local\\Programs\\Python\\Python310\\lib\\site-packages\\sklearn\\cluster\\_kmeans.py:870: FutureWarning: The default value of `n_init` will change from 10 to 'auto' in 1.4. Set the value of `n_init` explicitly to suppress the warning\n",
      "  warnings.warn(\n"
     ]
    }
   ],
   "source": [
    "# Experiment with 3 clusters\n",
    "model = KMeans(n_clusters=3, init='k-means++', max_iter=300)\n",
    "# c = model.fit(df[['feature_dissatisfaction','feature_satisfaction', 'hungerstation_e', 'h_dissatisfaction', 'h_satisfaction', 'jahez_e', 'j_dissatisfaction', 'j_satisfaction', 'shgardi_e', 's_dissatisfaction', 's_satisfaction', 'toyou_e', 't_dissatisfaction', 't_satisfaction', 'thechefz_e', 'c_dissatisfaction', 'c_satisfaction']])\n",
    "c = model.fit(df[['feature_dissatisfaction','feature_satisfaction']])\n",
    "\n",
    "df['cluster'] = model.labels_"
   ]
  },
  {
   "cell_type": "code",
   "execution_count": 36,
   "metadata": {},
   "outputs": [],
   "source": [
    "table = {'feature': [], \"cluster\": [], \"feature_dissatisfaction\": [], \"feature_satisfaction\": [], \"feature_neutral\": [], \"feature_frequency\": []}\n",
    "\n",
    "for x in range(len(df)):\n",
    "        table[\"feature\"].append(df['feature'][x])\n",
    "        table[\"cluster\"].append(df['cluster'][x])\n",
    "        \n",
    "        table[\"feature_dissatisfaction\"].append(df['feature_dissatisfaction'][x])\n",
    "        table[\"feature_satisfaction\"].append(df['feature_satisfaction'][x])\n",
    "        table[\"feature_neutral\"].append(df['feature_neutral'][x])\n",
    "        table[\"feature_frequency\"].append(df['feature_frequency'][x])\n",
    "        "
   ]
  },
  {
   "cell_type": "code",
   "execution_count": 37,
   "metadata": {},
   "outputs": [],
   "source": [
    "df=pd.DataFrame.from_dict(table,orient='index').transpose()\n",
    "df.to_csv('kmeans_3_clusters_2v_new.csv', index = False)"
   ]
  },
  {
   "cell_type": "markdown",
   "metadata": {},
   "source": [
    "## 4 clusters "
   ]
  },
  {
   "cell_type": "code",
   "execution_count": 38,
   "metadata": {},
   "outputs": [
    {
     "name": "stderr",
     "output_type": "stream",
     "text": [
      "c:\\Users\\Senan\\AppData\\Local\\Programs\\Python\\Python310\\lib\\site-packages\\sklearn\\cluster\\_kmeans.py:870: FutureWarning: The default value of `n_init` will change from 10 to 'auto' in 1.4. Set the value of `n_init` explicitly to suppress the warning\n",
      "  warnings.warn(\n"
     ]
    }
   ],
   "source": [
    "# Experiment with 4 clusters\n",
    "model = KMeans(n_clusters=4, init='k-means++', max_iter=300)\n",
    "# c = model.fit(df[['feature_dissatisfaction','feature_satisfaction', 'hungerstation_e', 'h_dissatisfaction', 'h_satisfaction', 'jahez_e', 'j_dissatisfaction', 'j_satisfaction', 'shgardi_e', 's_dissatisfaction', 's_satisfaction', 'toyou_e', 't_dissatisfaction', 't_satisfaction', 'thechefz_e', 'c_dissatisfaction', 'c_satisfaction']])\n",
    "c = model.fit(df[['feature_dissatisfaction','feature_satisfaction']])\n",
    "\n",
    "df['cluster'] = model.labels_"
   ]
  },
  {
   "cell_type": "code",
   "execution_count": 39,
   "metadata": {},
   "outputs": [],
   "source": [
    "table = {'feature': [], \"cluster\": [], \"feature_dissatisfaction\": [], \"feature_satisfaction\": [], \"feature_neutral\": [], \"feature_frequency\": []}\n",
    "\n",
    "for x in range(len(df)):\n",
    "        table[\"feature\"].append(df['feature'][x])\n",
    "        table[\"cluster\"].append(df['cluster'][x])\n",
    "        \n",
    "        table[\"feature_dissatisfaction\"].append(df['feature_dissatisfaction'][x])\n",
    "        table[\"feature_satisfaction\"].append(df['feature_satisfaction'][x])\n",
    "        table[\"feature_neutral\"].append(df['feature_neutral'][x])\n",
    "        table[\"feature_frequency\"].append(df['feature_frequency'][x])\n",
    "        "
   ]
  },
  {
   "cell_type": "code",
   "execution_count": 40,
   "metadata": {},
   "outputs": [],
   "source": [
    "df=pd.DataFrame.from_dict(table,orient='index').transpose()\n",
    "df.to_csv('kmeans_4_clusters_2v_new.csv', index = False)\n"
   ]
  },
  {
   "cell_type": "markdown",
   "metadata": {},
   "source": [
    "## 5 clusters "
   ]
  },
  {
   "cell_type": "code",
   "execution_count": 41,
   "metadata": {},
   "outputs": [
    {
     "name": "stderr",
     "output_type": "stream",
     "text": [
      "c:\\Users\\Senan\\AppData\\Local\\Programs\\Python\\Python310\\lib\\site-packages\\sklearn\\cluster\\_kmeans.py:870: FutureWarning: The default value of `n_init` will change from 10 to 'auto' in 1.4. Set the value of `n_init` explicitly to suppress the warning\n",
      "  warnings.warn(\n"
     ]
    }
   ],
   "source": [
    "# Experiment with 5 clusters\n",
    "model = KMeans(n_clusters=5, init='k-means++', max_iter=300)\n",
    "# c = model.fit(df[['feature_dissatisfaction','feature_satisfaction', 'hungerstation_e', 'h_dissatisfaction', 'h_satisfaction', 'jahez_e', 'j_dissatisfaction', 'j_satisfaction', 'shgardi_e', 's_dissatisfaction', 's_satisfaction', 'toyou_e', 't_dissatisfaction', 't_satisfaction', 'thechefz_e', 'c_dissatisfaction', 'c_satisfaction']])\n",
    "c = model.fit(df[['feature_dissatisfaction','feature_satisfaction']])\n",
    "# c = model.fit(df[['feature_dissatisfaction','feature_satisfaction', 'h_dissatisfaction', 'h_satisfaction', 'j_dissatisfaction', 'j_satisfaction', 's_dissatisfaction', 's_satisfaction', 't_dissatisfaction', 't_satisfaction', 'c_dissatisfaction', 'c_satisfaction']])\n",
    "\n",
    "df['cluster'] = model.labels_"
   ]
  },
  {
   "cell_type": "code",
   "execution_count": 42,
   "metadata": {},
   "outputs": [],
   "source": [
    "table = {'feature': [], \"cluster\": [], \"feature_dissatisfaction\": [], \"feature_satisfaction\": [], \"feature_neutral\": [], \"feature_frequency\": []}\n",
    "\n",
    "for x in range(len(df)):\n",
    "        table[\"feature\"].append(df['feature'][x])\n",
    "        table[\"cluster\"].append(df['cluster'][x])\n",
    "        \n",
    "        table[\"feature_dissatisfaction\"].append(df['feature_dissatisfaction'][x])\n",
    "        table[\"feature_satisfaction\"].append(df['feature_satisfaction'][x])\n",
    "        table[\"feature_neutral\"].append(df['feature_neutral'][x])\n",
    "        table[\"feature_frequency\"].append(df['feature_frequency'][x])\n",
    "        "
   ]
  },
  {
   "cell_type": "code",
   "execution_count": 43,
   "metadata": {},
   "outputs": [],
   "source": [
    "df=pd.DataFrame.from_dict(table,orient='index').transpose()\n",
    "df.to_csv('kmeans_5_clusters_NEW_WORKSHOP_NEW.csv', index = False)"
   ]
  },
  {
   "cell_type": "markdown",
   "metadata": {},
   "source": [
    "# 6 Clusters"
   ]
  },
  {
   "cell_type": "code",
   "execution_count": 44,
   "metadata": {},
   "outputs": [
    {
     "name": "stderr",
     "output_type": "stream",
     "text": [
      "c:\\Users\\Senan\\AppData\\Local\\Programs\\Python\\Python310\\lib\\site-packages\\sklearn\\cluster\\_kmeans.py:870: FutureWarning: The default value of `n_init` will change from 10 to 'auto' in 1.4. Set the value of `n_init` explicitly to suppress the warning\n",
      "  warnings.warn(\n"
     ]
    }
   ],
   "source": [
    "# Experiment with 6 clusters\n",
    "model = KMeans(n_clusters=6, init='k-means++', max_iter=300)\n",
    "c = model.fit(df[['feature_dissatisfaction','feature_satisfaction']])\n",
    "# c = model.fit(df[['feature_dissatisfaction','feature_satisfaction']])\n",
    "# c = model.fit(df[['feature_dissatisfaction','feature_satisfaction', 'h_dissatisfaction', 'h_satisfaction', 'j_dissatisfaction', 'j_satisfaction', 's_dissatisfaction', 's_satisfaction', 't_dissatisfaction', 't_satisfaction', 'c_dissatisfaction', 'c_satisfaction']])\n",
    "\n",
    "df['cluster'] = model.labels_"
   ]
  },
  {
   "cell_type": "code",
   "execution_count": 45,
   "metadata": {},
   "outputs": [],
   "source": [
    "table = {'feature': [], \"cluster\": [], \"feature_dissatisfaction\": [], \"feature_satisfaction\": [], \"feature_neutral\": [], \"feature_frequency\": []}\n",
    "\n",
    "for x in range(len(df)):\n",
    "        table[\"feature\"].append(df['feature'][x])\n",
    "        table[\"cluster\"].append(df['cluster'][x])\n",
    "        \n",
    "        table[\"feature_dissatisfaction\"].append(df['feature_dissatisfaction'][x])\n",
    "        table[\"feature_satisfaction\"].append(df['feature_satisfaction'][x])\n",
    "        table[\"feature_neutral\"].append(df['feature_neutral'][x])\n",
    "        table[\"feature_frequency\"].append(df['feature_frequency'][x])\n",
    "        "
   ]
  },
  {
   "cell_type": "code",
   "execution_count": 46,
   "metadata": {},
   "outputs": [],
   "source": [
    "df=pd.DataFrame.from_dict(table,orient='index').transpose()\n",
    "df.to_csv('kmeans_6_clusters_e3_all_new.csv', index = False)"
   ]
  },
  {
   "cell_type": "markdown",
   "metadata": {},
   "source": [
    "# 2. Evaluation"
   ]
  },
  {
   "cell_type": "code",
   "execution_count": 47,
   "metadata": {},
   "outputs": [
    {
     "name": "stdout",
     "output_type": "stream",
     "text": [
      "[[0.0133286  0.01405057]\n",
      " [0.06611668 0.75472628]\n",
      " [0.01247601 0.10665994]\n",
      " [1.         0.        ]\n",
      " [0.18189714 0.01059418]\n",
      " [0.02445408 0.41165408]]\n"
     ]
    }
   ],
   "source": [
    "# Get the centroids of the clusters\n",
    "centroids = model.cluster_centers_\n",
    "print(centroids)"
   ]
  },
  {
   "cell_type": "code",
   "execution_count": 48,
   "metadata": {},
   "outputs": [
    {
     "name": "stdout",
     "output_type": "stream",
     "text": [
      "0       1\n",
      "1       5\n",
      "2       4\n",
      "3       3\n",
      "4       0\n",
      "       ..\n",
      "1246    0\n",
      "1247    0\n",
      "1248    0\n",
      "1249    0\n",
      "1250    0\n",
      "Name: cluster, Length: 1251, dtype: object\n"
     ]
    }
   ],
   "source": [
    "print(df['cluster'])"
   ]
  },
  {
   "cell_type": "code",
   "execution_count": 49,
   "metadata": {},
   "outputs": [],
   "source": [
    "# Convert the dataframe to array\n",
    "# points = df[['feature_dissatisfaction','feature_satisfaction', 'hungerstation_e', 'h_dissatisfaction', 'h_satisfaction', 'jahez_e', 'j_dissatisfaction', 'j_satisfaction', 'shgardi_e', 's_dissatisfaction', 'toyou_e', 't_dissatisfaction', 'thechefz_e', 'c_dissatisfaction', 'c_satisfaction']].to_numpy()\n",
    "# points = df[['feature_dissatisfaction','feature_satisfaction', 'h_dissatisfaction', 'h_satisfaction', 'j_dissatisfaction', 'j_satisfaction', 's_dissatisfaction', 's_satisfaction', 't_dissatisfaction', 't_satisfaction', 'c_dissatisfaction', 'c_satisfaction']].to_numpy()\n",
    "points = df[['feature_dissatisfaction','feature_satisfaction']].to_numpy()"
   ]
  },
  {
   "cell_type": "code",
   "execution_count": 50,
   "metadata": {},
   "outputs": [],
   "source": [
    "# Save the labels into array\n",
    "labels = df['cluster'].to_numpy()"
   ]
  },
  {
   "cell_type": "code",
   "execution_count": 51,
   "metadata": {},
   "outputs": [
    {
     "name": "stdout",
     "output_type": "stream",
     "text": [
      "[1078    6  116    1   36   14]\n"
     ]
    }
   ],
   "source": [
    "db1_labels = model.labels_\n",
    "unique_labels, cluster_sizes = np.unique(db1_labels[db1_labels>=0], return_counts=True)\n",
    "# print(unique_labels[np.argsort(-counts)[:3]])\n",
    "print(cluster_sizes)"
   ]
  },
  {
   "cell_type": "markdown",
   "metadata": {},
   "source": [
    "## 2.1 Dunn index "
   ]
  },
  {
   "cell_type": "code",
   "execution_count": 52,
   "metadata": {},
   "outputs": [],
   "source": [
    "import pylab as pl\n",
    "from scipy.spatial import ConvexHull\n",
    "from sklearn.metrics.pairwise import euclidean_distances"
   ]
  },
  {
   "cell_type": "code",
   "execution_count": 53,
   "metadata": {},
   "outputs": [],
   "source": [
    "# compute the diameter based on convex hull \n",
    "def diameter(pts):\n",
    "  # need at least 3 points to construct the convex hull\n",
    "  if pts.shape[0] <= 1:\n",
    "    return 0\n",
    "  if pts.shape[0] == 2:\n",
    "    return ((pts[0] - pts[1])**2).sum()\n",
    "  # two points which are fruthest apart will occur as vertices of the convex hull\n",
    "  hull = spatial.ConvexHull(pts)\n",
    "  candidates = pts[spatial.ConvexHull(pts).vertices]\n",
    "  return spatial.distance_matrix(candidates, candidates).max()\n",
    "\n",
    "def dunn_index(pts, labels, centroids):\n",
    "  # O(k n log(n)) with k clusters and n points; better performance with more even clusters\n",
    "  max_intracluster_dist = max(diameter(pts[labels==i]) for i in np.unique(labels))\n",
    "  # O(k^2) with k clusters; can be reduced to O(k log(k))\n",
    "  # get pairwise distances between centroids\n",
    "  cluster_dmat = spatial.distance_matrix(centroids, centroids)\n",
    "  # fill diagonal with +inf: ignore zero distance to self in \"min\" computation\n",
    "  np.fill_diagonal(cluster_dmat, np.inf)\n",
    "  min_intercluster_dist = cluster_sizes.min()\n",
    "  return min_intercluster_dist / max_intracluster_dist"
   ]
  },
  {
   "cell_type": "code",
   "execution_count": 54,
   "metadata": {},
   "outputs": [
    {
     "data": {
      "text/plain": [
       "1.709776892281736"
      ]
     },
     "execution_count": 54,
     "metadata": {},
     "output_type": "execute_result"
    }
   ],
   "source": [
    "dunn_index(points, labels, centroids)"
   ]
  },
  {
   "cell_type": "markdown",
   "metadata": {},
   "source": [
    "## 2.2 Silhouette index "
   ]
  },
  {
   "cell_type": "code",
   "execution_count": 55,
   "metadata": {},
   "outputs": [],
   "source": [
    "from sklearn.metrics import silhouette_score"
   ]
  },
  {
   "cell_type": "code",
   "execution_count": 56,
   "metadata": {},
   "outputs": [
    {
     "name": "stdout",
     "output_type": "stream",
     "text": [
      "Silhouette score = 0.6905964767866049\n"
     ]
    }
   ],
   "source": [
    "s_score = silhouette_score(points, labels)\n",
    "print(\"Silhouette score =\", s_score)"
   ]
  },
  {
   "cell_type": "markdown",
   "metadata": {},
   "source": [
    "## 2.3 Calinski Harabasz "
   ]
  },
  {
   "cell_type": "code",
   "execution_count": 30,
   "metadata": {},
   "outputs": [],
   "source": [
    "from sklearn.metrics import calinski_harabasz_score"
   ]
  },
  {
   "cell_type": "code",
   "execution_count": 57,
   "metadata": {},
   "outputs": [
    {
     "name": "stdout",
     "output_type": "stream",
     "text": [
      "Calinski Harabasz score = 1288.799022885091\n"
     ]
    }
   ],
   "source": [
    "ch_score = calinski_harabasz_score(points, labels)\n",
    "print(\"Calinski Harabasz score =\", ch_score)"
   ]
  }
 ],
 "metadata": {
  "kernelspec": {
   "display_name": "Python 3",
   "language": "python",
   "name": "python3"
  },
  "language_info": {
   "codemirror_mode": {
    "name": "ipython",
    "version": 3
   },
   "file_extension": ".py",
   "mimetype": "text/x-python",
   "name": "python",
   "nbconvert_exporter": "python",
   "pygments_lexer": "ipython3",
   "version": "3.10.9"
  },
  "vscode": {
   "interpreter": {
    "hash": "71a0637d0666d0ab2b8df844a45a22bf88bda8a7ba40a422949c3405594bb489"
   }
  }
 },
 "nbformat": 4,
 "nbformat_minor": 4
}
