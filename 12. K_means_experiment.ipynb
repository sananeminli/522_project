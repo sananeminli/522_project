{
 "cells": [
  {
   "cell_type": "code",
   "execution_count": 1,
   "metadata": {},
   "outputs": [],
   "source": [
    "from sklearn.cluster import KMeans\n",
    "import pandas as pd\n",
    "from matplotlib import pyplot as plt\n",
    "import numpy as np\n",
    "from scipy import spatial\n",
    "from sklearn.preprocessing import MinMaxScaler"
   ]
  },
  {
   "cell_type": "code",
   "execution_count": 2,
   "metadata": {},
   "outputs": [],
   "source": [
    "data = pd.read_csv('FINAL_FINAL_SCALED_DATA.csv') \n",
    "\n",
    "df = pd.DataFrame(data, columns=['feature', 'feature_neutral', 'feature_frequency', 'feature_dissatisfaction','feature_satisfaction', 'hungerstation_e', 'h_dissatisfaction', 'h_satisfaction', 'jahez_e', 'j_dissatisfaction', 'j_satisfaction', 'shgardi_e', 's_dissatisfaction', 's_satisfaction', 'toyou_e', 't_dissatisfaction', 't_satisfaction', 'thechefz_e', 'c_dissatisfaction', 'c_satisfaction'])"
   ]
  },
  {
   "cell_type": "code",
   "execution_count": 3,
   "metadata": {},
   "outputs": [],
   "source": [
    "for x in range(len(df)):\n",
    "    if df['feature_satisfaction'][x] == 0 and df['feature_dissatisfaction'][x] == 0:\n",
    "        print(df['feature'][x])\n",
    "        df.drop(x, inplace=True)\n",
    "        \n",
    "df = df.reset_index(drop=True)"
   ]
  },
  {
   "cell_type": "markdown",
   "metadata": {},
   "source": [
    "# 1. Experiments"
   ]
  },
  {
   "cell_type": "code",
   "execution_count": null,
   "metadata": {},
   "outputs": [],
   "source": [
    "# 2 attributes (satisfaction - dissatisfaction)\n",
    "# 3 clusters \n",
    "# 4 clusters\n",
    "# 5 clusters"
   ]
  },
  {
   "cell_type": "markdown",
   "metadata": {},
   "source": [
    "## 3 clusters "
   ]
  },
  {
   "cell_type": "code",
   "execution_count": 4,
   "metadata": {},
   "outputs": [],
   "source": [
    "# Experiment with 3 clusters\n",
    "model = KMeans(n_clusters=3, init='k-means++', max_iter=300)\n",
    "# c = model.fit(df[['feature_dissatisfaction','feature_satisfaction', 'hungerstation_e', 'h_dissatisfaction', 'h_satisfaction', 'jahez_e', 'j_dissatisfaction', 'j_satisfaction', 'shgardi_e', 's_dissatisfaction', 's_satisfaction', 'toyou_e', 't_dissatisfaction', 't_satisfaction', 'thechefz_e', 'c_dissatisfaction', 'c_satisfaction']])\n",
    "c = model.fit(df[['feature_dissatisfaction','feature_satisfaction']])\n",
    "\n",
    "df['cluster'] = model.labels_"
   ]
  },
  {
   "cell_type": "code",
   "execution_count": 5,
   "metadata": {},
   "outputs": [],
   "source": [
    "table = {'feature': [], \"cluster\": [], \"feature_dissatisfaction\": [], \"feature_satisfaction\": [], \"feature_neutral\": [], \"feature_frequency\": [], 'hungerstation_e': [], 'h_dissatisfaction':[], 'h_satisfaction': [], 'jahez_e': [], 'j_dissatisfaction':[], 'j_satisfaction': [], 'shgardi_e': [], 's_dissatisfaction':[], 's_satisfaction': [], 'toyou_e': [], 't_dissatisfaction':[], 't_satisfaction': [], 'thechefz_e': [], 'c_dissatisfaction':[], 'c_satisfaction': []}\n",
    "\n",
    "for x in range(len(df)):\n",
    "        table[\"feature\"].append(df['feature'][x])\n",
    "        table[\"cluster\"].append(df['cluster'][x])\n",
    "        \n",
    "        table[\"feature_dissatisfaction\"].append(df['feature_dissatisfaction'][x])\n",
    "        table[\"feature_satisfaction\"].append(df['feature_satisfaction'][x])\n",
    "        table[\"feature_neutral\"].append(df['feature_neutral'][x])\n",
    "        table[\"feature_frequency\"].append(df['feature_frequency'][x])\n",
    "            \n",
    "        table[\"hungerstation_e\"].append(df['hungerstation_e'][x])\n",
    "        table[\"h_dissatisfaction\"].append(df['h_dissatisfaction'][x])\n",
    "        table[\"h_satisfaction\"].append(df['h_satisfaction'][x])\n",
    "\n",
    "        table[\"jahez_e\"].append(df['jahez_e'][x])\n",
    "        table[\"j_dissatisfaction\"].append(df['j_dissatisfaction'][x])\n",
    "        table[\"j_satisfaction\"].append(df['j_satisfaction'][x])\n",
    "\n",
    "        table[\"shgardi_e\"].append(df['shgardi_e'][x])\n",
    "        table[\"s_dissatisfaction\"].append(df['s_dissatisfaction'][x])\n",
    "        table[\"s_satisfaction\"].append(df['s_satisfaction'][x])\n",
    "\n",
    "        table[\"toyou_e\"].append(df['toyou_e'][x])\n",
    "        table[\"t_dissatisfaction\"].append(df['t_dissatisfaction'][x])\n",
    "        table[\"t_satisfaction\"].append(df['t_satisfaction'][x])\n",
    "\n",
    "        table[\"thechefz_e\"].append(df['thechefz_e'][x])\n",
    "        table[\"c_dissatisfaction\"].append(df['c_dissatisfaction'][x])\n",
    "        table[\"c_satisfaction\"].append(df['c_satisfaction'][x])"
   ]
  },
  {
   "cell_type": "code",
   "execution_count": 6,
   "metadata": {},
   "outputs": [],
   "source": [
    "df=pd.DataFrame.from_dict(table,orient='index').transpose()\n",
    "df.to_csv('NEW\\kmeans_3_clusters_2v_new.csv', index = False)"
   ]
  },
  {
   "cell_type": "markdown",
   "metadata": {},
   "source": [
    "## 4 clusters "
   ]
  },
  {
   "cell_type": "code",
   "execution_count": 23,
   "metadata": {},
   "outputs": [],
   "source": [
    "# Experiment with 4 clusters\n",
    "model = KMeans(n_clusters=4, init='k-means++', max_iter=300)\n",
    "# c = model.fit(df[['feature_dissatisfaction','feature_satisfaction', 'hungerstation_e', 'h_dissatisfaction', 'h_satisfaction', 'jahez_e', 'j_dissatisfaction', 'j_satisfaction', 'shgardi_e', 's_dissatisfaction', 's_satisfaction', 'toyou_e', 't_dissatisfaction', 't_satisfaction', 'thechefz_e', 'c_dissatisfaction', 'c_satisfaction']])\n",
    "c = model.fit(df[['feature_dissatisfaction','feature_satisfaction']])\n",
    "\n",
    "df['cluster'] = model.labels_"
   ]
  },
  {
   "cell_type": "code",
   "execution_count": 24,
   "metadata": {},
   "outputs": [],
   "source": [
    "table = {'feature': [], \"cluster\": [], \"feature_dissatisfaction\": [], \"feature_satisfaction\": [], \"feature_neutral\": [], \"feature_frequency\": [], 'hungerstation_e': [], 'h_dissatisfaction':[], 'h_satisfaction': [], 'jahez_e': [], 'j_dissatisfaction':[], 'j_satisfaction': [], 'shgardi_e': [], 's_dissatisfaction':[], 's_satisfaction': [], 'toyou_e': [], 't_dissatisfaction':[], 't_satisfaction': [], 'thechefz_e': [], 'c_dissatisfaction':[], 'c_satisfaction': []}\n",
    "\n",
    "for x in range(len(df)):\n",
    "        table[\"feature\"].append(df['feature'][x])\n",
    "        table[\"cluster\"].append(df['cluster'][x])\n",
    "        \n",
    "        table[\"feature_dissatisfaction\"].append(df['feature_dissatisfaction'][x])\n",
    "        table[\"feature_satisfaction\"].append(df['feature_satisfaction'][x])\n",
    "        table[\"feature_neutral\"].append(df['feature_neutral'][x])\n",
    "        table[\"feature_frequency\"].append(df['feature_frequency'][x])\n",
    "            \n",
    "        table[\"hungerstation_e\"].append(df['hungerstation_e'][x])\n",
    "        table[\"h_dissatisfaction\"].append(df['h_dissatisfaction'][x])\n",
    "        table[\"h_satisfaction\"].append(df['h_satisfaction'][x])\n",
    "\n",
    "        table[\"jahez_e\"].append(df['jahez_e'][x])\n",
    "        table[\"j_dissatisfaction\"].append(df['j_dissatisfaction'][x])\n",
    "        table[\"j_satisfaction\"].append(df['j_satisfaction'][x])\n",
    "\n",
    "        table[\"shgardi_e\"].append(df['shgardi_e'][x])\n",
    "        table[\"s_dissatisfaction\"].append(df['s_dissatisfaction'][x])\n",
    "        table[\"s_satisfaction\"].append(df['s_satisfaction'][x])\n",
    "\n",
    "        table[\"toyou_e\"].append(df['toyou_e'][x])\n",
    "        table[\"t_dissatisfaction\"].append(df['t_dissatisfaction'][x])\n",
    "        table[\"t_satisfaction\"].append(df['t_satisfaction'][x])\n",
    "\n",
    "        table[\"thechefz_e\"].append(df['thechefz_e'][x])\n",
    "        table[\"c_dissatisfaction\"].append(df['c_dissatisfaction'][x])\n",
    "        table[\"c_satisfaction\"].append(df['c_satisfaction'][x])"
   ]
  },
  {
   "cell_type": "code",
   "execution_count": 25,
   "metadata": {},
   "outputs": [],
   "source": [
    "df=pd.DataFrame.from_dict(table,orient='index').transpose()\n",
    "df.to_csv('NEW\\kmeans_4_clusters_2v_new.csv', index = False)"
   ]
  },
  {
   "cell_type": "markdown",
   "metadata": {},
   "source": [
    "## 5 clusters "
   ]
  },
  {
   "cell_type": "code",
   "execution_count": 4,
   "metadata": {},
   "outputs": [],
   "source": [
    "# Experiment with 5 clusters\n",
    "model = KMeans(n_clusters=5, init='k-means++', max_iter=300)\n",
    "# c = model.fit(df[['feature_dissatisfaction','feature_satisfaction', 'hungerstation_e', 'h_dissatisfaction', 'h_satisfaction', 'jahez_e', 'j_dissatisfaction', 'j_satisfaction', 'shgardi_e', 's_dissatisfaction', 's_satisfaction', 'toyou_e', 't_dissatisfaction', 't_satisfaction', 'thechefz_e', 'c_dissatisfaction', 'c_satisfaction']])\n",
    "c = model.fit(df[['feature_dissatisfaction','feature_satisfaction']])\n",
    "# c = model.fit(df[['feature_dissatisfaction','feature_satisfaction', 'h_dissatisfaction', 'h_satisfaction', 'j_dissatisfaction', 'j_satisfaction', 's_dissatisfaction', 's_satisfaction', 't_dissatisfaction', 't_satisfaction', 'c_dissatisfaction', 'c_satisfaction']])\n",
    "\n",
    "df['cluster'] = model.labels_"
   ]
  },
  {
   "cell_type": "code",
   "execution_count": 7,
   "metadata": {},
   "outputs": [],
   "source": [
    "table = {'feature': [], \"cluster\": [], \"feature_dissatisfaction\": [], \"feature_satisfaction\": [], \"feature_neutral\": [], \"feature_frequency\": [], 'hungerstation_e': [], 'h_dissatisfaction':[], 'h_satisfaction': [], 'jahez_e': [], 'j_dissatisfaction':[], 'j_satisfaction': [], 'shgardi_e': [], 's_dissatisfaction':[], 's_satisfaction': [], 'toyou_e': [], 't_dissatisfaction':[], 't_satisfaction': [], 'thechefz_e': [], 'c_dissatisfaction':[], 'c_satisfaction': []}\n",
    "\n",
    "for x in range(len(df)):\n",
    "        table[\"feature\"].append(df['feature'][x])\n",
    "        table[\"cluster\"].append(df['cluster'][x])\n",
    "        \n",
    "        table[\"feature_dissatisfaction\"].append(df['feature_dissatisfaction'][x])\n",
    "        table[\"feature_satisfaction\"].append(df['feature_satisfaction'][x])\n",
    "        table[\"feature_neutral\"].append(df['feature_neutral'][x])\n",
    "        table[\"feature_frequency\"].append(df['feature_frequency'][x])\n",
    "            \n",
    "        table[\"hungerstation_e\"].append(df['hungerstation_e'][x])\n",
    "        table[\"h_dissatisfaction\"].append(df['h_dissatisfaction'][x])\n",
    "        table[\"h_satisfaction\"].append(df['h_satisfaction'][x])\n",
    "\n",
    "        table[\"jahez_e\"].append(df['jahez_e'][x])\n",
    "        table[\"j_dissatisfaction\"].append(df['j_dissatisfaction'][x])\n",
    "        table[\"j_satisfaction\"].append(df['j_satisfaction'][x])\n",
    "\n",
    "        table[\"shgardi_e\"].append(df['shgardi_e'][x])\n",
    "        table[\"s_dissatisfaction\"].append(df['s_dissatisfaction'][x])\n",
    "        table[\"s_satisfaction\"].append(df['s_satisfaction'][x])\n",
    "\n",
    "        table[\"toyou_e\"].append(df['toyou_e'][x])\n",
    "        table[\"t_dissatisfaction\"].append(df['t_dissatisfaction'][x])\n",
    "        table[\"t_satisfaction\"].append(df['t_satisfaction'][x])\n",
    "\n",
    "        table[\"thechefz_e\"].append(df['thechefz_e'][x])\n",
    "        table[\"c_dissatisfaction\"].append(df['c_dissatisfaction'][x])\n",
    "        table[\"c_satisfaction\"].append(df['c_satisfaction'][x])"
   ]
  },
  {
   "cell_type": "code",
   "execution_count": 8,
   "metadata": {},
   "outputs": [],
   "source": [
    "df=pd.DataFrame.from_dict(table,orient='index').transpose()\n",
    "df.to_csv('NEW\\kmeans_5_clusters_NEW_WORKSHOP_NEW.csv', index = False)"
   ]
  },
  {
   "cell_type": "markdown",
   "metadata": {},
   "source": [
    "# 6 Clusters"
   ]
  },
  {
   "cell_type": "code",
   "execution_count": null,
   "metadata": {},
   "outputs": [],
   "source": [
    "# Experiment with 6 clusters\n",
    "model = KMeans(n_clusters=6, init='k-means++', max_iter=300)\n",
    "c = model.fit(df[['feature_dissatisfaction','feature_satisfaction', 'hungerstation_e', 'h_dissatisfaction', 'h_satisfaction', 'jahez_e', 'j_dissatisfaction', 'j_satisfaction', 'shgardi_e', 's_dissatisfaction', 's_satisfaction', 'toyou_e', 't_dissatisfaction', 't_satisfaction', 'thechefz_e', 'c_dissatisfaction', 'c_satisfaction']])\n",
    "# c = model.fit(df[['feature_dissatisfaction','feature_satisfaction']])\n",
    "# c = model.fit(df[['feature_dissatisfaction','feature_satisfaction', 'h_dissatisfaction', 'h_satisfaction', 'j_dissatisfaction', 'j_satisfaction', 's_dissatisfaction', 's_satisfaction', 't_dissatisfaction', 't_satisfaction', 'c_dissatisfaction', 'c_satisfaction']])\n",
    "\n",
    "df['cluster'] = model.labels_"
   ]
  },
  {
   "cell_type": "code",
   "execution_count": null,
   "metadata": {},
   "outputs": [],
   "source": [
    "table = {'feature': [], \"cluster\": [], \"feature_dissatisfaction\": [], \"feature_satisfaction\": [], \"feature_neutral\": [], \"feature_frequency\": [], 'hungerstation_e': [], 'h_dissatisfaction':[], 'h_satisfaction': [], 'jahez_e': [], 'j_dissatisfaction':[], 'j_satisfaction': [], 'shgardi_e': [], 's_dissatisfaction':[], 's_satisfaction': [], 'toyou_e': [], 't_dissatisfaction':[], 't_satisfaction': [], 'thechefz_e': [], 'c_dissatisfaction':[], 'c_satisfaction': []}\n",
    "\n",
    "for x in range(len(df)):\n",
    "        table[\"feature\"].append(df['feature'][x])\n",
    "        table[\"cluster\"].append(df['cluster'][x])\n",
    "        \n",
    "        table[\"feature_dissatisfaction\"].append(df['feature_dissatisfaction'][x])\n",
    "        table[\"feature_satisfaction\"].append(df['feature_satisfaction'][x])\n",
    "        table[\"feature_neutral\"].append(df['feature_neutral'][x])\n",
    "        table[\"feature_frequency\"].append(df['feature_frequency'][x])\n",
    "            \n",
    "        table[\"hungerstation_e\"].append(df['hungerstation_e'][x])\n",
    "        table[\"h_dissatisfaction\"].append(df['h_dissatisfaction'][x])\n",
    "        table[\"h_satisfaction\"].append(df['h_satisfaction'][x])\n",
    "\n",
    "        table[\"jahez_e\"].append(df['jahez_e'][x])\n",
    "        table[\"j_dissatisfaction\"].append(df['j_dissatisfaction'][x])\n",
    "        table[\"j_satisfaction\"].append(df['j_satisfaction'][x])\n",
    "\n",
    "        table[\"shgardi_e\"].append(df['shgardi_e'][x])\n",
    "        table[\"s_dissatisfaction\"].append(df['s_dissatisfaction'][x])\n",
    "        table[\"s_satisfaction\"].append(df['s_satisfaction'][x])\n",
    "\n",
    "        table[\"toyou_e\"].append(df['toyou_e'][x])\n",
    "        table[\"t_dissatisfaction\"].append(df['t_dissatisfaction'][x])\n",
    "        table[\"t_satisfaction\"].append(df['t_satisfaction'][x])\n",
    "\n",
    "        table[\"thechefz_e\"].append(df['thechefz_e'][x])\n",
    "        table[\"c_dissatisfaction\"].append(df['c_dissatisfaction'][x])\n",
    "        table[\"c_satisfaction\"].append(df['c_satisfaction'][x])"
   ]
  },
  {
   "cell_type": "code",
   "execution_count": null,
   "metadata": {},
   "outputs": [],
   "source": [
    "df=pd.DataFrame.from_dict(table,orient='index').transpose()\n",
    "df.to_csv('NEW\\kmeans_6_clusters_e3_all_new.csv', index = False)"
   ]
  },
  {
   "cell_type": "markdown",
   "metadata": {},
   "source": [
    "# 2. Evaluation"
   ]
  },
  {
   "cell_type": "code",
   "execution_count": 5,
   "metadata": {},
   "outputs": [
    {
     "name": "stdout",
     "output_type": "stream",
     "text": [
      "[[0.02173605 0.13055878]\n",
      " [1.         1.        ]\n",
      " [0.00857326 0.3698102 ]\n",
      " [0.0554657  0.01216604]\n",
      " [0.0197189  0.61995877]]\n"
     ]
    }
   ],
   "source": [
    "# Get the centroids of the clusters\n",
    "centroids = model.cluster_centers_\n",
    "print(centroids)"
   ]
  },
  {
   "cell_type": "code",
   "execution_count": 6,
   "metadata": {},
   "outputs": [
    {
     "name": "stdout",
     "output_type": "stream",
     "text": [
      "0     1\n",
      "1     3\n",
      "2     3\n",
      "3     0\n",
      "4     3\n",
      "5     2\n",
      "6     4\n",
      "7     4\n",
      "8     2\n",
      "9     0\n",
      "10    0\n",
      "11    3\n",
      "12    2\n",
      "13    0\n",
      "14    0\n",
      "15    0\n",
      "16    3\n",
      "17    3\n",
      "18    0\n",
      "19    2\n",
      "20    3\n",
      "21    4\n",
      "22    0\n",
      "23    3\n",
      "24    4\n",
      "25    2\n",
      "26    3\n",
      "27    2\n",
      "Name: cluster, dtype: int32\n"
     ]
    }
   ],
   "source": [
    "print(df['cluster'])"
   ]
  },
  {
   "cell_type": "code",
   "execution_count": 38,
   "metadata": {},
   "outputs": [],
   "source": [
    "# Convert the dataframe to array\n",
    "# points = df[['feature_dissatisfaction','feature_satisfaction', 'hungerstation_e', 'h_dissatisfaction', 'h_satisfaction', 'jahez_e', 'j_dissatisfaction', 'j_satisfaction', 'shgardi_e', 's_dissatisfaction', 'toyou_e', 't_dissatisfaction', 'thechefz_e', 'c_dissatisfaction', 'c_satisfaction']].to_numpy()\n",
    "# points = df[['feature_dissatisfaction','feature_satisfaction', 'h_dissatisfaction', 'h_satisfaction', 'j_dissatisfaction', 'j_satisfaction', 's_dissatisfaction', 's_satisfaction', 't_dissatisfaction', 't_satisfaction', 'c_dissatisfaction', 'c_satisfaction']].to_numpy()\n",
    "points = df[['feature_dissatisfaction','feature_satisfaction']].to_numpy()"
   ]
  },
  {
   "cell_type": "code",
   "execution_count": 39,
   "metadata": {},
   "outputs": [],
   "source": [
    "# Save the labels into array\n",
    "labels = df['cluster'].to_numpy()"
   ]
  },
  {
   "cell_type": "code",
   "execution_count": 40,
   "metadata": {},
   "outputs": [
    {
     "name": "stdout",
     "output_type": "stream",
     "text": [
      "[8 1 4 9 6]\n"
     ]
    }
   ],
   "source": [
    "db1_labels = model.labels_\n",
    "unique_labels, cluster_sizes = np.unique(db1_labels[db1_labels>=0], return_counts=True)\n",
    "# print(unique_labels[np.argsort(-counts)[:3]])\n",
    "print(cluster_sizes)"
   ]
  },
  {
   "cell_type": "markdown",
   "metadata": {},
   "source": [
    "## 2.1 Dunn index "
   ]
  },
  {
   "cell_type": "code",
   "execution_count": 11,
   "metadata": {},
   "outputs": [],
   "source": [
    "import pylab as pl\n",
    "from scipy.spatial import ConvexHull\n",
    "from sklearn.metrics.pairwise import euclidean_distances"
   ]
  },
  {
   "cell_type": "code",
   "execution_count": 12,
   "metadata": {},
   "outputs": [],
   "source": [
    "# compute the diameter based on convex hull \n",
    "def diameter(pts):\n",
    "  # need at least 3 points to construct the convex hull\n",
    "  if pts.shape[0] <= 1:\n",
    "    return 0\n",
    "  if pts.shape[0] == 2:\n",
    "    return ((pts[0] - pts[1])**2).sum()\n",
    "  # two points which are fruthest apart will occur as vertices of the convex hull\n",
    "  hull = spatial.ConvexHull(pts)\n",
    "  candidates = pts[spatial.ConvexHull(pts).vertices]\n",
    "  return spatial.distance_matrix(candidates, candidates).max()\n",
    "\n",
    "def dunn_index(pts, labels, centroids):\n",
    "  # O(k n log(n)) with k clusters and n points; better performance with more even clusters\n",
    "  max_intracluster_dist = max(diameter(pts[labels==i]) for i in np.unique(labels))\n",
    "  # O(k^2) with k clusters; can be reduced to O(k log(k))\n",
    "  # get pairwise distances between centroids\n",
    "  cluster_dmat = spatial.distance_matrix(centroids, centroids)\n",
    "  # fill diagonal with +inf: ignore zero distance to self in \"min\" computation\n",
    "  np.fill_diagonal(cluster_dmat, np.inf)\n",
    "  min_intercluster_dist = cluster_sizes.min()\n",
    "  return min_intercluster_dist / max_intracluster_dist"
   ]
  },
  {
   "cell_type": "code",
   "execution_count": 41,
   "metadata": {},
   "outputs": [
    {
     "data": {
      "text/plain": [
       "4.387661277940202"
      ]
     },
     "execution_count": 41,
     "metadata": {},
     "output_type": "execute_result"
    }
   ],
   "source": [
    "dunn_index(points, labels, centroids)"
   ]
  },
  {
   "cell_type": "markdown",
   "metadata": {},
   "source": [
    "## 2.2 Silhouette index "
   ]
  },
  {
   "cell_type": "code",
   "execution_count": 18,
   "metadata": {},
   "outputs": [],
   "source": [
    "from sklearn.metrics import silhouette_score"
   ]
  },
  {
   "cell_type": "code",
   "execution_count": 42,
   "metadata": {},
   "outputs": [
    {
     "name": "stdout",
     "output_type": "stream",
     "text": [
      "Silhouette score = 0.547661774711701\n"
     ]
    }
   ],
   "source": [
    "s_score = silhouette_score(points, labels)\n",
    "print(\"Silhouette score =\", s_score)"
   ]
  },
  {
   "cell_type": "markdown",
   "metadata": {},
   "source": [
    "## 2.3 Calinski Harabasz "
   ]
  },
  {
   "cell_type": "code",
   "execution_count": 20,
   "metadata": {},
   "outputs": [],
   "source": [
    "from sklearn.metrics import calinski_harabasz_score"
   ]
  },
  {
   "cell_type": "code",
   "execution_count": 43,
   "metadata": {},
   "outputs": [
    {
     "name": "stdout",
     "output_type": "stream",
     "text": [
      "Calinski Harabasz score = 217.74076890450854\n"
     ]
    }
   ],
   "source": [
    "ch_score = calinski_harabasz_score(points, labels)\n",
    "print(\"Calinski Harabasz score =\", ch_score)"
   ]
  }
 ],
 "metadata": {
  "kernelspec": {
   "display_name": "Python 3",
   "language": "python",
   "name": "python3"
  },
  "language_info": {
   "codemirror_mode": {
    "name": "ipython",
    "version": 3
   },
   "file_extension": ".py",
   "mimetype": "text/x-python",
   "name": "python",
   "nbconvert_exporter": "python",
   "pygments_lexer": "ipython3",
   "version": "3.8.3"
  }
 },
 "nbformat": 4,
 "nbformat_minor": 4
}
