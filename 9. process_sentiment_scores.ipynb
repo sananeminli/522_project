{
 "cells": [
  {
   "cell_type": "markdown",
   "metadata": {},
   "source": [
    "# Remove Arabic sentences"
   ]
  },
  {
   "cell_type": "code",
   "execution_count": null,
   "metadata": {},
   "outputs": [],
   "source": [
    "import pandas as pd\n",
    "import nltk\n",
    "import re"
   ]
  },
  {
   "cell_type": "code",
   "execution_count": null,
   "metadata": {},
   "outputs": [],
   "source": [
    "# Checking removing Arabic sentences\n",
    "data = pd.read_csv('splitted_reviews_into_sentences_sID.csv') \n",
    "df = pd.DataFrame(data, columns=['r_id', 's_id','app_name','app_id', 'date', 'title', 'review', 'rating'])"
   ]
  },
  {
   "cell_type": "code",
   "execution_count": null,
   "metadata": {},
   "outputs": [],
   "source": [
    "# Arabic review > df['review'][14614] 2760\n",
    "# Review with Emoji > df['review'][727]\n",
    "# Review with numbers > df['review'][726]\n",
    "sent = df['review'][36]\n",
    "print(sent)"
   ]
  },
  {
   "cell_type": "code",
   "execution_count": null,
   "metadata": {},
   "outputs": [],
   "source": [
    "reviews_list = df['review'].tolist()\n",
    "print(reviews_list)"
   ]
  },
  {
   "cell_type": "code",
   "execution_count": null,
   "metadata": {},
   "outputs": [],
   "source": [
    "len(df)"
   ]
  },
  {
   "cell_type": "code",
   "execution_count": null,
   "metadata": {},
   "outputs": [],
   "source": [
    "arabic_sent = 0\n",
    "for x in range(len(reviews_list)):\n",
    "    if re.match('[\\u0621-\\u064A\\u0660-\\u0669 ]+', reviews_list[x]):\n",
    "        df.drop(x, inplace=True)\n",
    "        arabic_sent = arabic_sent + 1\n",
    "        print(x, reviews_list[x])\n",
    "        \n",
    "print(\"Number of dropped Arabic sentences:\", arabic_sent)"
   ]
  },
  {
   "cell_type": "code",
   "execution_count": null,
   "metadata": {},
   "outputs": [],
   "source": [
    "df = df.reset_index(drop=True)"
   ]
  },
  {
   "cell_type": "code",
   "execution_count": null,
   "metadata": {},
   "outputs": [],
   "source": [
    "len(df)"
   ]
  },
  {
   "cell_type": "code",
   "execution_count": null,
   "metadata": {},
   "outputs": [],
   "source": [
    "df['review'][36]"
   ]
  },
  {
   "cell_type": "code",
   "execution_count": null,
   "metadata": {},
   "outputs": [],
   "source": [
    "table = {\"r_id\": [], \"s_id\": [], \"app_name\": [], \"app_id\": [], \"date\": [], \"title\": [], \"review\": [], \"rating\": []}\n",
    "\n",
    "for x in range(len(df)):\n",
    "    table[\"r_id\"].append(df['r_id'][x])\n",
    "    table[\"s_id\"].append(df['s_id'][x])\n",
    "    table[\"app_name\"].append(df['app_name'][x])\n",
    "    table[\"app_id\"].append(df['app_id'][x])\n",
    "    table[\"date\"].append(df['date'][x])\n",
    "    table[\"title\"].append(df['title'][x])\n",
    "    table[\"review\"].append(df['review'][x])\n",
    "    table[\"rating\"].append(df['rating'][x])"
   ]
  },
  {
   "cell_type": "code",
   "execution_count": null,
   "metadata": {},
   "outputs": [],
   "source": [
    "df=pd.DataFrame.from_dict(table,orient='index').transpose()\n",
    "df.to_csv('reviews_without_Arabic_sentences.csv', index = False)\n",
    "# This file has been taken to find sentences reference to the extracted features"
   ]
  },
  {
   "cell_type": "markdown",
   "metadata": {},
   "source": [
    "#  If I want to group the sentences back as reviews"
   ]
  },
  {
   "cell_type": "code",
   "execution_count": null,
   "metadata": {},
   "outputs": [],
   "source": [
    "df['review'] = df[['r_id', 's_id','app_name','app_id', 'date', 'title', 'review', 'rating']].groupby(['r_id'])['review'].transform(lambda x: ' '.join(x))"
   ]
  },
  {
   "cell_type": "code",
   "execution_count": null,
   "metadata": {},
   "outputs": [],
   "source": [
    "df = df[['r_id','app_name','app_id', 'date', 'title', 'review', 'rating']].drop_duplicates(subset=None, keep='first', inplace=False, ignore_index=False)"
   ]
  },
  {
   "cell_type": "code",
   "execution_count": null,
   "metadata": {},
   "outputs": [],
   "source": [
    "df = df.reset_index(drop=True)"
   ]
  },
  {
   "cell_type": "code",
   "execution_count": null,
   "metadata": {},
   "outputs": [],
   "source": [
    "len(df)"
   ]
  },
  {
   "cell_type": "code",
   "execution_count": null,
   "metadata": {},
   "outputs": [],
   "source": [
    "table = {\"r_id\": [], \"app_name\": [], \"app_id\": [], \"date\": [], \"title\": [], \"review\": [], \"rating\": []}\n",
    "\n",
    "for x in range(len(df)):\n",
    "    table[\"r_id\"].append(df['r_id'][x])\n",
    "    table[\"app_name\"].append(df['app_name'][x])\n",
    "    table[\"app_id\"].append(df['app_id'][x])\n",
    "    table[\"date\"].append(df['date'][x])\n",
    "    table[\"title\"].append(df['title'][x])\n",
    "    table[\"review\"].append(df['review'][x])\n",
    "    table[\"rating\"].append(df['rating'][x])"
   ]
  },
  {
   "cell_type": "code",
   "execution_count": null,
   "metadata": {},
   "outputs": [],
   "source": [
    "df=pd.DataFrame.from_dict(table,orient='index').transpose()\n",
    "df.to_csv('reviews_without_Arabic_reviews_sentences.csv', index = False)"
   ]
  },
  {
   "cell_type": "markdown",
   "metadata": {},
   "source": [
    "# Process sentiment scores"
   ]
  },
  {
   "cell_type": "code",
   "execution_count": null,
   "metadata": {},
   "outputs": [],
   "source": [
    "dataS = pd.read_csv('sentences_sentistrength_results.csv') \n",
    "df_sentences = pd.DataFrame(dataS, columns=['reference_sentence', 'Positive','Negative'])"
   ]
  },
  {
   "cell_type": "code",
   "execution_count": null,
   "metadata": {},
   "outputs": [],
   "source": [
    "sentence_sentiment = []\n",
    "for x in range(len(df_sentences)):\n",
    "    if df_sentences['Positive'][x] == abs(df_sentences['Negative'][x]):\n",
    "        if df_sentences['Positive'][x] == 1:\n",
    "            sentence_sentiment.insert(x, 0) \n",
    "        else:\n",
    "            sentence_sentiment.insert(x, df_sentences['Negative'][x]) \n",
    "    elif df_sentences['Positive'][x] > abs(df_sentences['Negative'][x]):\n",
    "        sentence_sentiment.insert(x, df_sentences['Positive'][x]) \n",
    "    else:\n",
    "        sentence_sentiment.insert(x, df_sentences['Negative'][x]) "
   ]
  },
  {
   "cell_type": "code",
   "execution_count": null,
   "metadata": {},
   "outputs": [],
   "source": [
    "len(sentence_sentiment)"
   ]
  },
  {
   "cell_type": "code",
   "execution_count": null,
   "metadata": {},
   "outputs": [],
   "source": [
    "table = {\"sent_id\": [], \"sentence\": [], \"sentence_sentiment\": []}\n",
    "\n",
    "for x in range(len(df_sentences)):\n",
    "    table[\"sent_id\"].append(x)\n",
    "    table[\"sentence\"].append(df_sentences['reference_sentence'][x])\n",
    "    table[\"sentence_sentiment\"].append(sentence_sentiment[x])"
   ]
  },
  {
   "cell_type": "code",
   "execution_count": null,
   "metadata": {},
   "outputs": [],
   "source": [
    "df=pd.DataFrame.from_dict(table,orient='index').transpose()\n",
    "df.to_csv('sentences_sentiment_score.csv', index = False)"
   ]
  },
  {
   "cell_type": "code",
   "execution_count": null,
   "metadata": {},
   "outputs": [],
   "source": [
    "df"
   ]
  },
  {
   "cell_type": "code",
   "execution_count": null,
   "metadata": {},
   "outputs": [],
   "source": [
    "dataR = pd.read_csv('reviews_sentistrength_results.csv') \n",
    "df_reviews = pd.DataFrame(dataR, columns=['reference_review', 'Positive','Negative'])"
   ]
  },
  {
   "cell_type": "code",
   "execution_count": null,
   "metadata": {},
   "outputs": [],
   "source": [
    "review_sentiment = []\n",
    "for x in range(len(df_reviews)):\n",
    "    if df_reviews['Positive'][x] == abs(df_reviews['Negative'][x]):\n",
    "        if df_reviews['Positive'][x] == 1:\n",
    "            review_sentiment.insert(x, 0) \n",
    "        else:\n",
    "            review_sentiment.insert(x, df_reviews['Negative'][x]) \n",
    "    elif df_reviews['Positive'][x] > abs(df_reviews['Negative'][x]):\n",
    "        review_sentiment.insert(x, df_reviews['Positive'][x]) \n",
    "    else:\n",
    "        review_sentiment.insert(x, df_reviews['Negative'][x]) "
   ]
  },
  {
   "cell_type": "code",
   "execution_count": null,
   "metadata": {},
   "outputs": [],
   "source": [
    "table = {\"review\": [], \"review_sentiment\": []}\n",
    "\n",
    "for x in range(len(df_reviews)):\n",
    "    table[\"review\"].append(df_reviews['reference_review'][x])\n",
    "    table[\"review_sentiment\"].append(review_sentiment[x])"
   ]
  },
  {
   "cell_type": "code",
   "execution_count": null,
   "metadata": {},
   "outputs": [],
   "source": [
    "df=pd.DataFrame.from_dict(table,orient='index').transpose()\n",
    "df.to_csv('reviews_sentiment_score.csv', index = False)"
   ]
  },
  {
   "cell_type": "markdown",
   "metadata": {},
   "source": [
    "# Add r_id for SentiStrength files"
   ]
  },
  {
   "cell_type": "code",
   "execution_count": null,
   "metadata": {},
   "outputs": [],
   "source": [
    "dataS = pd.read_csv('sentences_sentiment_score.csv') \n",
    "df_sentences = pd.DataFrame(dataS, columns=['sentence','sentence_sentiment'])"
   ]
  },
  {
   "cell_type": "code",
   "execution_count": null,
   "metadata": {},
   "outputs": [],
   "source": [
    "dataRS = pd.read_csv('reference_sentences.csv') \n",
    "df_ref_sentences = pd.DataFrame(dataRS, columns=['r_id', 's_id'])"
   ]
  },
  {
   "cell_type": "code",
   "execution_count": null,
   "metadata": {},
   "outputs": [],
   "source": [
    "combined_df = pd.concat([df_ref_sentences, df_sentences], axis=1, join='inner')"
   ]
  },
  {
   "cell_type": "code",
   "execution_count": null,
   "metadata": {},
   "outputs": [],
   "source": [
    "combined_df.to_csv('sentences_sentiment_score_with_id.csv', index = False)"
   ]
  },
  {
   "cell_type": "code",
   "execution_count": null,
   "metadata": {},
   "outputs": [],
   "source": [
    "dataR = pd.read_csv('reviews_sentiment_score.csv') \n",
    "df_reviews = pd.DataFrame(dataR, columns=['review','review_sentiment'])"
   ]
  },
  {
   "cell_type": "code",
   "execution_count": null,
   "metadata": {},
   "outputs": [],
   "source": [
    "dataRR = pd.read_csv('reference_reviews.csv') \n",
    "df_ref_reviews = pd.DataFrame(dataRR, columns=['r_id'])"
   ]
  },
  {
   "cell_type": "code",
   "execution_count": null,
   "metadata": {},
   "outputs": [],
   "source": [
    "combined_dfR = pd.concat([df_ref_reviews, df_reviews], axis=1, join='inner')"
   ]
  },
  {
   "cell_type": "code",
   "execution_count": null,
   "metadata": {},
   "outputs": [],
   "source": [
    "combined_dfR.to_csv('reviews_sentiment_score_with_id.csv', index = False)"
   ]
  },
  {
   "cell_type": "markdown",
   "metadata": {},
   "source": [
    "# Combine sentences and reviews in one file"
   ]
  },
  {
   "cell_type": "code",
   "execution_count": null,
   "metadata": {},
   "outputs": [],
   "source": [
    "r_id_from_reviews = combined_dfR['r_id'].tolist()\n",
    "r_id_from_sentences = combined_df['r_id'].tolist()\n",
    "sentences_list = combined_df['sentence'].tolist()\n",
    "reviews_list = combined_dfR['review'].tolist()"
   ]
  },
  {
   "cell_type": "code",
   "execution_count": null,
   "metadata": {},
   "outputs": [],
   "source": [
    "combined_dfR"
   ]
  },
  {
   "cell_type": "code",
   "execution_count": null,
   "metadata": {},
   "outputs": [],
   "source": [
    "combined_df"
   ]
  },
  {
   "cell_type": "code",
   "execution_count": null,
   "metadata": {},
   "outputs": [],
   "source": [
    "# Combine reviews with sentences\n",
    "table = {\"r_id\": [], \"review\": [], \"review_sentiment\": [], \"s_id\": [], \"sentence\": [], \"sentence_sentiment\": []}\n",
    "counter = 0\n",
    "for x in range(len(r_id_from_sentences)):\n",
    "    for y in range(len(r_id_from_reviews)):\n",
    "        if r_id_from_sentences[x] == r_id_from_reviews[y]:\n",
    "            print(\"Sentence r_id: \", r_id_from_sentences[x], \"equals review r_id: \", r_id_from_reviews[y])\n",
    "            print(\"*Sentence\", sentences_list[x])\n",
    "            print(\"**Review\", reviews_list[y])\n",
    "            print(\"-------\")\n",
    "            counter = counter + 1\n",
    "            table[\"r_id\"].append(r_id_from_reviews[y])\n",
    "            table[\"review\"].append(reviews_list[y])\n",
    "            table[\"review_sentiment\"].append(combined_dfR['review_sentiment'][y])\n",
    "            table[\"s_id\"].append(combined_df['s_id'][x])\n",
    "            table[\"sentence\"].append(sentences_list[x])\n",
    "            table[\"sentence_sentiment\"].append(combined_df['sentence_sentiment'][x])\n",
    "        \n",
    "\n",
    "print(\"Reference reviews: \", counter)"
   ]
  },
  {
   "cell_type": "code",
   "execution_count": null,
   "metadata": {},
   "outputs": [],
   "source": [
    "df=pd.DataFrame.from_dict(table,orient='index').transpose()\n",
    "df.to_csv('reviews_sentences_sentiment_scores.csv', index = False)"
   ]
  },
  {
   "cell_type": "code",
   "execution_count": null,
   "metadata": {},
   "outputs": [],
   "source": [
    "len(df)"
   ]
  },
  {
   "cell_type": "code",
   "execution_count": null,
   "metadata": {},
   "outputs": [],
   "source": [
    "df"
   ]
  },
  {
   "cell_type": "markdown",
   "metadata": {},
   "source": [
    "# Assign sentiment for features"
   ]
  },
  {
   "cell_type": "code",
   "execution_count": null,
   "metadata": {},
   "outputs": [],
   "source": [
    "dataF = pd.read_csv('features_with_weight.csv') \n",
    "dfF = pd.DataFrame(dataF, columns=['extracted_features', 'meaningful', 'weight'])"
   ]
  },
  {
   "cell_type": "code",
   "execution_count": null,
   "metadata": {},
   "outputs": [],
   "source": [
    "dataS = pd.read_csv('reviews_sentences_sentiment_scores.csv') \n",
    "dfS = pd.DataFrame(dataS, columns=['r_id', 'review', 'review_sentiment', 's_id', 'sentence', 'sentence_sentiment'])"
   ]
  },
  {
   "cell_type": "code",
   "execution_count": null,
   "metadata": {},
   "outputs": [],
   "source": [
    "sentences_list = dfS['sentence'].str.lower().tolist()"
   ]
  },
  {
   "cell_type": "code",
   "execution_count": null,
   "metadata": {},
   "outputs": [],
   "source": [
    "for x in range(len(sentences_list)):\n",
    "    if re.search('costumer service', sentences_list[x]):\n",
    "        print(\"Old:\", sentences_list[x])\n",
    "        string = sentences_list[x]\n",
    "        sentences_list[x] = string.replace('costumer service', 'customer service')\n",
    "        print(\"New:\", sentences_list[x])"
   ]
  },
  {
   "cell_type": "code",
   "execution_count": null,
   "metadata": {},
   "outputs": [],
   "source": [
    "# Add the meaningful features to the features list\n",
    "features_list = []\n",
    "weight = []\n",
    "for x in range(len(dfF)):\n",
    "    if dfF['meaningful'][x] == 1:\n",
    "        features_list.insert(x, dfF['extracted_features'][x])\n",
    "        weight.insert(x, dfF['weight'][x])"
   ]
  },
  {
   "cell_type": "code",
   "execution_count": null,
   "metadata": {},
   "outputs": [],
   "source": [
    "# Find each features with its reference review/sentence to assign sentiment score\n",
    "table = {\"r_id\": [], \"review\": [], \"review_sentiment\": [], \"s_id\": [], \"sentence\": [], \"sentence_sentiment\": [], \"feature\": [], \"weight\": []}\n",
    "counter = 0\n",
    "\n",
    "for x in range(len(features_list)):\n",
    "    print(\"-------feature\", features_list[x])\n",
    "    for y in range(len(sentences_list)):\n",
    "        if features_list[x] in sentences_list[y]:\n",
    "            counter = counter + 1\n",
    "            print(\"Feature:\", features_list[x], \"weight:\", weight[x])\n",
    "            print(\"Found in sentence ID #:\", dfS['s_id'][y], \"|| Sentence::\", sentences_list[y])\n",
    "            table[\"r_id\"].append(dfS['r_id'][y])\n",
    "            table[\"review\"].append(dfS['review'][y])\n",
    "            table[\"review_sentiment\"].append(dfS['review_sentiment'][y])\n",
    "            table[\"s_id\"].append(dfS['s_id'][y])\n",
    "            table[\"sentence\"].append(sentences_list[y])\n",
    "            table[\"sentence_sentiment\"].append(dfS['sentence_sentiment'][y])\n",
    "            table[\"feature\"].append(features_list[x])\n",
    "            table[\"weight\"].append(weight[x])\n",
    "        \n",
    "\n",
    "print(counter)"
   ]
  },
  {
   "cell_type": "code",
   "execution_count": null,
   "metadata": {},
   "outputs": [],
   "source": [
    "df=pd.DataFrame.from_dict(table,orient='index').transpose()\n",
    "df.to_csv('final_file_with_sentiments.csv', index = False)"
   ]
  },
  {
   "cell_type": "markdown",
   "metadata": {},
   "source": [
    "# Add feature frequency"
   ]
  },
  {
   "cell_type": "code",
   "execution_count": null,
   "metadata": {},
   "outputs": [],
   "source": [
    "data = pd.read_csv('final_file_with_sentiments.csv') \n",
    "df = pd.DataFrame(data, columns=['r_id', 'review', 'review_sentiment', 's_id', 'sentence', 'sentence_sentiment', 'feature'])"
   ]
  },
  {
   "cell_type": "markdown",
   "metadata": {},
   "source": [
    "# frequency regardless sentiment\n"
   ]
  },
  {
   "cell_type": "code",
   "execution_count": null,
   "metadata": {},
   "outputs": [],
   "source": [
    "df['freq'] = df.groupby('feature')['feature'].transform('count')"
   ]
  },
  {
   "cell_type": "code",
   "execution_count": null,
   "metadata": {},
   "outputs": [],
   "source": [
    "df"
   ]
  },
  {
   "cell_type": "code",
   "execution_count": null,
   "metadata": {},
   "outputs": [],
   "source": [
    "# frequency regardless sentiment\n",
    "df.to_csv('freq_regardless_sentiment.csv', index = False)"
   ]
  },
  {
   "cell_type": "markdown",
   "metadata": {},
   "source": [
    "# frequency regarding feature and sentiment"
   ]
  },
  {
   "cell_type": "code",
   "execution_count": null,
   "metadata": {},
   "outputs": [],
   "source": [
    "frequency_series = df.groupby(['review_sentiment', 'sentence_sentiment', 'feature']).size()"
   ]
  },
  {
   "cell_type": "code",
   "execution_count": null,
   "metadata": {},
   "outputs": [],
   "source": [
    "new_df = frequency_series.to_frame(name = 'freq').reset_index()"
   ]
  },
  {
   "cell_type": "code",
   "execution_count": null,
   "metadata": {},
   "outputs": [],
   "source": [
    "new_df"
   ]
  },
  {
   "cell_type": "code",
   "execution_count": null,
   "metadata": {},
   "outputs": [],
   "source": [
    "new_df.to_csv('freq_regard_sentiment.csv', index = False)"
   ]
  },
  {
   "cell_type": "code",
   "execution_count": null,
   "metadata": {},
   "outputs": [],
   "source": [
    "# grouped_df = df.groupby([\"review_sentiment\", \"sentence_sentiment\", \"feature\"]).size().reset_index(name=\"Frequency\")"
   ]
  },
  {
   "cell_type": "code",
   "execution_count": null,
   "metadata": {},
   "outputs": [],
   "source": [
    "# grouped_df.to_csv('grouped_file.csv', index = False)"
   ]
  },
  {
   "cell_type": "code",
   "execution_count": null,
   "metadata": {},
   "outputs": [],
   "source": [
    "# This is old file without including reviews sentiment score\n",
    "df.to_csv('features_sentiment_score_with_sent.csv', index = False)"
   ]
  }
 ],
 "metadata": {
  "kernelspec": {
   "display_name": "Python 3",
   "language": "python",
   "name": "python3"
  },
  "language_info": {
   "codemirror_mode": {
    "name": "ipython",
    "version": 3
   },
   "file_extension": ".py",
   "mimetype": "text/x-python",
   "name": "python",
   "nbconvert_exporter": "python",
   "pygments_lexer": "ipython3",
   "version": "3.10.9 (tags/v3.10.9:1dd9be6, Dec  6 2022, 20:01:21) [MSC v.1934 64 bit (AMD64)]"
  },
  "vscode": {
   "interpreter": {
    "hash": "71a0637d0666d0ab2b8df844a45a22bf88bda8a7ba40a422949c3405594bb489"
   }
  }
 },
 "nbformat": 4,
 "nbformat_minor": 4
}
