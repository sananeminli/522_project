{
 "cells": [
  {
   "cell_type": "code",
   "execution_count": 2,
   "metadata": {},
   "outputs": [],
   "source": [
    "import pandas as pd"
   ]
  },
  {
   "cell_type": "code",
   "execution_count": 3,
   "metadata": {},
   "outputs": [],
   "source": [
    "data = pd.read_csv('all_categories_new_int.csv') \n",
    "df = pd.DataFrame(data, columns=['feature', 'clustering', 'survey'])"
   ]
  },
  {
   "cell_type": "code",
   "execution_count": 4,
   "metadata": {},
   "outputs": [],
   "source": [
    "clustering = df['clustering'].to_list()\n",
    "\n",
    "survey = df['survey'].to_list()"
   ]
  },
  {
   "cell_type": "code",
   "execution_count": 5,
   "metadata": {},
   "outputs": [],
   "source": [
    "from scipy.special import comb\n",
    "from itertools import combinations\n",
    "import numpy as np\n",
    "\n",
    "def check_clusterings(labels_true, labels_pred):\n",
    "#     \"\"\"Check that the two clusterings matching 1D integer arrays.\"\"\"\n",
    "    labels_true = np.asarray(labels_true)\n",
    "    labels_pred = np.asarray(labels_pred)    \n",
    "    # input checks\n",
    "    if labels_true.ndim != 1:\n",
    "        raise ValueError(\n",
    "            \"labels_true must be 1D: shape is %r\" % (labels_true.shape,))\n",
    "    if labels_pred.ndim != 1:\n",
    "        raise ValueError(\n",
    "            \"labels_pred must be 1D: shape is %r\" % (labels_pred.shape,))\n",
    "    if labels_true.shape != labels_pred.shape:\n",
    "        raise ValueError(\n",
    "            \"labels_true and labels_pred must have same size, got %d and %d\"\n",
    "            % (labels_true.shape[0], labels_pred.shape[0]))\n",
    "    return labels_true, labels_pred\n",
    "\n",
    "def rand_score (labels_true, labels_pred):\n",
    "# \"\"\"given the true and predicted labels, it will return the Rand Index.\"\"\"\n",
    "    check_clusterings(labels_true, labels_pred)\n",
    "    my_pair = list(combinations(range(len(labels_true)), 2)) #create list of all combinations with the length of labels.\n",
    "    def is_equal(x):\n",
    "        return (x[0]==x[1])\n",
    "    my_a = 0\n",
    "    my_b = 0\n",
    "    for i in range(len(my_pair)):\n",
    "            if(is_equal((labels_true[my_pair[i][0]],labels_true[my_pair[i][1]])) == is_equal((labels_pred[my_pair[i][0]],labels_pred[my_pair[i][1]])) \n",
    "               and is_equal((labels_pred[my_pair[i][0]],labels_pred[my_pair[i][1]])) == True):\n",
    "                my_a += 1\n",
    "            if(is_equal((labels_true[my_pair[i][0]],labels_true[my_pair[i][1]])) == is_equal((labels_pred[my_pair[i][0]],labels_pred[my_pair[i][1]])) \n",
    "               and is_equal((labels_pred[my_pair[i][0]],labels_pred[my_pair[i][1]])) == False):\n",
    "                my_b += 1\n",
    "    my_denom = comb(len(labels_true),2)\n",
    "    ri = (my_a + my_b) / my_denom\n",
    "    return ri"
   ]
  },
  {
   "cell_type": "code",
   "execution_count": 6,
   "metadata": {},
   "outputs": [],
   "source": [
    "import numpy as np\n",
    "from scipy.special import comb\n",
    "def rand_index_score(clusters, classes):\n",
    "    tp_plus_fp = comb(np.bincount(clusters), 2).sum()\n",
    "    tp_plus_fn = comb(np.bincount(classes), 2).sum()\n",
    "    A = np.c_[(clusters, classes)]\n",
    "    tp = sum(comb(np.bincount(A[A[:, 0] == i, 1]), 2).sum()\n",
    "             for i in set(clusters))\n",
    "    fp = tp_plus_fp - tp\n",
    "    fn = tp_plus_fn - tp\n",
    "    tn = comb(len(A), 2) - tp - fp - fn\n",
    "    print(\"TP:\", tp)\n",
    "    print(\"FP:\", fp)\n",
    "    print(\"TN:\", tn)\n",
    "    print(\"FN:\", fn)\n",
    "    print(\"C:\", (tp + fp + fn + tn))\n",
    "    print(\"Precision:\", tp/(tp+fp))\n",
    "    print(\"Recall:\", tp/(tp+fn))\n",
    "    print(\"Accuracy:\", (tp+tn)/(tp+tn+fp+fn))\n",
    "    return (tp + tn) / (tp + fp + fn + tn)"
   ]
  },
  {
   "cell_type": "code",
   "execution_count": 7,
   "metadata": {},
   "outputs": [
    {
     "name": "stdout",
     "output_type": "stream",
     "text": [
      "TP: 69.0\n",
      "FP: 120.0\n",
      "TN: 125.0\n",
      "FN: 64.0\n",
      "C: 378.0\n",
      "Precision: 0.36507936507936506\n",
      "Recall: 0.518796992481203\n",
      "Accuracy: 0.5132275132275133\n"
     ]
    },
    {
     "data": {
      "text/plain": [
       "0.5132275132275133"
      ]
     },
     "execution_count": 7,
     "metadata": {},
     "output_type": "execute_result"
    }
   ],
   "source": [
    "# clustering with survey\n",
    "rand_index_score(survey, clustering)"
   ]
  }
 ],
 "metadata": {
  "kernelspec": {
   "display_name": "Python 3",
   "language": "python",
   "name": "python3"
  },
  "language_info": {
   "codemirror_mode": {
    "name": "ipython",
    "version": 3
   },
   "file_extension": ".py",
   "mimetype": "text/x-python",
   "name": "python",
   "nbconvert_exporter": "python",
   "pygments_lexer": "ipython3",
   "version": "3.8.3"
  }
 },
 "nbformat": 4,
 "nbformat_minor": 4
}
