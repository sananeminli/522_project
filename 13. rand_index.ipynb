{
 "cells": [
  {
   "cell_type": "code",
   "execution_count": 8,
   "metadata": {},
   "outputs": [],
   "source": [
    "import pandas as pd"
   ]
  },
  {
   "cell_type": "code",
   "execution_count": 19,
   "metadata": {},
   "outputs": [
    {
     "data": {
      "text/plain": [
       "1251"
      ]
     },
     "execution_count": 19,
     "metadata": {},
     "output_type": "execute_result"
    }
   ],
   "source": [
    "data = pd.read_csv('ah_4_clusters_2v_NEW.csv') \n",
    "df = pd.DataFrame(data, columns=['feature', 'cluster', 'survey'])\n",
    "len(df)"
   ]
  },
  {
   "cell_type": "code",
   "execution_count": 15,
   "metadata": {},
   "outputs": [],
   "source": [
    "cluster = df['cluster'].to_list()\n",
    "\n",
    "survey = df['survey'].to_list()"
   ]
  },
  {
   "cell_type": "code",
   "execution_count": 12,
   "metadata": {},
   "outputs": [],
   "source": [
    "from scipy.special import comb\n",
    "from itertools import combinations\n",
    "import numpy as np\n",
    "\n",
    "def check_clusterings(labels_true, labels_pred):\n",
    "#     \"\"\"Check that the two clusterings matching 1D integer arrays.\"\"\"\n",
    "    labels_true = np.asarray(labels_true)\n",
    "    labels_pred = np.asarray(labels_pred)    \n",
    "    # input checks\n",
    "    if labels_true.ndim != 1:\n",
    "        raise ValueError(\n",
    "            \"labels_true must be 1D: shape is %r\" % (labels_true.shape,))\n",
    "    if labels_pred.ndim != 1:\n",
    "        raise ValueError(\n",
    "            \"labels_pred must be 1D: shape is %r\" % (labels_pred.shape,))\n",
    "    if labels_true.shape != labels_pred.shape:\n",
    "        raise ValueError(\n",
    "            \"labels_true and labels_pred must have same size, got %d and %d\"\n",
    "            % (labels_true.shape[0], labels_pred.shape[0]))\n",
    "    return labels_true, labels_pred\n",
    "\n",
    "def rand_score (labels_true, labels_pred):\n",
    "# \"\"\"given the true and predicted labels, it will return the Rand Index.\"\"\"\n",
    "    check_clusterings(labels_true, labels_pred)\n",
    "    my_pair = list(combinations(range(len(labels_true)), 2)) #create list of all combinations with the length of labels.\n",
    "    def is_equal(x):\n",
    "        return (x[0]==x[1])\n",
    "    my_a = 0\n",
    "    my_b = 0\n",
    "    for i in range(len(my_pair)):\n",
    "            if(is_equal((labels_true[my_pair[i][0]],labels_true[my_pair[i][1]])) == is_equal((labels_pred[my_pair[i][0]],labels_pred[my_pair[i][1]])) \n",
    "               and is_equal((labels_pred[my_pair[i][0]],labels_pred[my_pair[i][1]])) == True):\n",
    "                my_a += 1\n",
    "            if(is_equal((labels_true[my_pair[i][0]],labels_true[my_pair[i][1]])) == is_equal((labels_pred[my_pair[i][0]],labels_pred[my_pair[i][1]])) \n",
    "               and is_equal((labels_pred[my_pair[i][0]],labels_pred[my_pair[i][1]])) == False):\n",
    "                my_b += 1\n",
    "    my_denom = comb(len(labels_true),2)\n",
    "    ri = (my_a + my_b) / my_denom\n",
    "    return ri"
   ]
  },
  {
   "cell_type": "code",
   "execution_count": 13,
   "metadata": {},
   "outputs": [],
   "source": [
    "import numpy as np\n",
    "from scipy.special import comb\n",
    "def rand_index_score(clusters, classes):\n",
    "    tp_plus_fp = comb(np.bincount(clusters), 2).sum()\n",
    "    tp_plus_fn = comb(np.bincount(classes), 2).sum()\n",
    "    A = np.c_[(clusters, classes)]\n",
    "    tp = sum(comb(np.bincount(A[A[:, 0] == i, 1]), 2).sum()\n",
    "             for i in set(clusters))\n",
    "    fp = tp_plus_fp - tp\n",
    "    fn = tp_plus_fn - tp\n",
    "    tn = comb(len(A), 2) - tp - fp - fn\n",
    "    print(\"TP:\", tp)\n",
    "    print(\"FP:\", fp)\n",
    "    print(\"TN:\", tn)\n",
    "    print(\"FN:\", fn)\n",
    "    print(\"C:\", (tp + fp + fn + tn))\n",
    "    print(\"Precision:\", tp/(tp+fp))\n",
    "    print(\"Recall:\", tp/(tp+fn))\n",
    "    print(\"Accuracy:\", (tp+tn)/(tp+tn+fp+fn))\n",
    "    return (tp + tn) / (tp + fp + fn + tn)"
   ]
  },
  {
   "cell_type": "code",
   "execution_count": 18,
   "metadata": {},
   "outputs": [
    {
     "name": "stdout",
     "output_type": "stream",
     "text": [
      "1251\n"
     ]
    },
    {
     "ename": "ValueError",
     "evalue": "cannot convert float NaN to integer",
     "output_type": "error",
     "traceback": [
      "\u001b[1;31m---------------------------------------------------------------------------\u001b[0m",
      "\u001b[1;31mValueError\u001b[0m                                Traceback (most recent call last)",
      "Cell \u001b[1;32mIn[18], line 3\u001b[0m\n\u001b[0;32m      1\u001b[0m \u001b[39m# clustering with survey\u001b[39;00m\n\u001b[0;32m      2\u001b[0m \u001b[39mprint\u001b[39m(\u001b[39mlen\u001b[39m(survey))\n\u001b[1;32m----> 3\u001b[0m rand_index_score(survey, cluster)\n",
      "Cell \u001b[1;32mIn[13], line 4\u001b[0m, in \u001b[0;36mrand_index_score\u001b[1;34m(clusters, classes)\u001b[0m\n\u001b[0;32m      3\u001b[0m \u001b[39mdef\u001b[39;00m \u001b[39mrand_index_score\u001b[39m(clusters, classes):\n\u001b[1;32m----> 4\u001b[0m     tp_plus_fp \u001b[39m=\u001b[39m comb(np\u001b[39m.\u001b[39;49mbincount(clusters), \u001b[39m2\u001b[39m)\u001b[39m.\u001b[39msum()\n\u001b[0;32m      5\u001b[0m     tp_plus_fn \u001b[39m=\u001b[39m comb(np\u001b[39m.\u001b[39mbincount(classes), \u001b[39m2\u001b[39m)\u001b[39m.\u001b[39msum()\n\u001b[0;32m      6\u001b[0m     A \u001b[39m=\u001b[39m np\u001b[39m.\u001b[39mc_[(clusters, classes)]\n",
      "File \u001b[1;32m<__array_function__ internals>:200\u001b[0m, in \u001b[0;36mbincount\u001b[1;34m(*args, **kwargs)\u001b[0m\n",
      "\u001b[1;31mValueError\u001b[0m: cannot convert float NaN to integer"
     ]
    }
   ],
   "source": [
    "# clustering with survey\n",
    "print(len(survey))\n",
    "rand_index_score(survey, cluster)"
   ]
  }
 ],
 "metadata": {
  "kernelspec": {
   "display_name": "Python 3",
   "language": "python",
   "name": "python3"
  },
  "language_info": {
   "codemirror_mode": {
    "name": "ipython",
    "version": 3
   },
   "file_extension": ".py",
   "mimetype": "text/x-python",
   "name": "python",
   "nbconvert_exporter": "python",
   "pygments_lexer": "ipython3",
   "version": "3.10.9 (tags/v3.10.9:1dd9be6, Dec  6 2022, 20:01:21) [MSC v.1934 64 bit (AMD64)]"
  },
  "vscode": {
   "interpreter": {
    "hash": "71a0637d0666d0ab2b8df844a45a22bf88bda8a7ba40a422949c3405594bb489"
   }
  }
 },
 "nbformat": 4,
 "nbformat_minor": 4
}
